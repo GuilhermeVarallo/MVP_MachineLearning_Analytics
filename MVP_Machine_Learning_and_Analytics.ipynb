{
  "nbformat": 4,
  "nbformat_minor": 0,
  "metadata": {
    "colab": {
      "provenance": []
    },
    "kernelspec": {
      "name": "python3",
      "display_name": "Python 3"
    },
    "language_info": {
      "name": "python"
    }
  },
  "cells": [
    {
      "cell_type": "markdown",
      "source": [
        "# **Projeção da quantidade de requerimentos do Programa de Transferência de Renda às pessoas atingidas pelo rompimento da Barragem de Córrego do Feijão em Brumadinho**\n",
        "O presente estudo de caso têm como objetivo descrever o desenvolvimento de um modelo de previsão de séries temporais em um cenário de relevância social: a projeção do número de requerimentos do Programa de Transferência de Renda (PTR)  às pessoas atingidas pelo rompimento da Barragem de Córrego do Feijão em Brumadinho. Esse programa está previsto no Anexo I.2 do Acordo Judicial de reparação assinado em 4 de fevereiro de 2021, entre a Vale do Rio Doce, o Estado de Minas Gerais, o Ministério Público de Minas Gerais, a Defensoria Pública do Estado e o Ministério Público Federal. Em setembro do mesmo ano, a Fundação Getulio Vargas foi escolhida como gerenciadora.\n",
        "O Programa de Transferência de Renda possui recursos e duração finitos que são alterados com a entrada de novos beneficiários. A possibilidade de prever a quantidade de novos requerimentos permite auxiliar nas estimativas relacionadas a tais parâmetros. Para tanto, serão utilizados algoritmos de machine learning e modelos estatísticos, a saber: AutoRegressive Integrated Moving Average (ARIMA), Exponential Smoothing, LightGBM, Long Short-Term Memory (LSTM), XGBoost, Support Vector Regression (SVM), Random Forest Regression, Linear Regression e métodos Ensemble. Os algoritmos serão treinados com dados históricos referentes aos requerimentos realizados sob a gerência da Fundação Getúlio Vargas, de março de 2022 à outubro de 2024. A base de dados passará pelo pré-processamento necessário e será dividida em base de treino e base de teste. Os resultados da projeção serão comparados com os valores reais através do erro quadrático médio, buscando definir quais os melhores modelos."
      ],
      "metadata": {
        "id": "hRDBz7Uzxviz"
      }
    },
    {
      "cell_type": "markdown",
      "source": [
        "Instalação da biblioteca pmdarima, utilizada na construção de modelos de séries temporais com base no ARIMA (AutoRegressive Integrated Moving Average)."
      ],
      "metadata": {
        "id": "9knL1OjTuUeE"
      }
    },
    {
      "cell_type": "code",
      "execution_count": 67,
      "metadata": {
        "colab": {
          "base_uri": "https://localhost:8080/"
        },
        "id": "5RqL2xd8l8Kg",
        "outputId": "8f302842-a45d-47bf-ba13-e87d4914caa9"
      },
      "outputs": [
        {
          "output_type": "stream",
          "name": "stdout",
          "text": [
            "Requirement already satisfied: pmdarima in /usr/local/lib/python3.10/dist-packages (2.0.4)\n",
            "Requirement already satisfied: joblib>=0.11 in /usr/local/lib/python3.10/dist-packages (from pmdarima) (1.4.2)\n",
            "Requirement already satisfied: Cython!=0.29.18,!=0.29.31,>=0.29 in /usr/local/lib/python3.10/dist-packages (from pmdarima) (3.0.11)\n",
            "Requirement already satisfied: numpy>=1.21.2 in /usr/local/lib/python3.10/dist-packages (from pmdarima) (1.26.4)\n",
            "Requirement already satisfied: pandas>=0.19 in /usr/local/lib/python3.10/dist-packages (from pmdarima) (2.2.2)\n",
            "Requirement already satisfied: scikit-learn>=0.22 in /usr/local/lib/python3.10/dist-packages (from pmdarima) (1.5.2)\n",
            "Requirement already satisfied: scipy>=1.3.2 in /usr/local/lib/python3.10/dist-packages (from pmdarima) (1.13.1)\n",
            "Requirement already satisfied: statsmodels>=0.13.2 in /usr/local/lib/python3.10/dist-packages (from pmdarima) (0.14.4)\n",
            "Requirement already satisfied: urllib3 in /usr/local/lib/python3.10/dist-packages (from pmdarima) (2.2.3)\n",
            "Requirement already satisfied: setuptools!=50.0.0,>=38.6.0 in /usr/local/lib/python3.10/dist-packages (from pmdarima) (75.1.0)\n",
            "Requirement already satisfied: packaging>=17.1 in /usr/local/lib/python3.10/dist-packages (from pmdarima) (24.2)\n",
            "Requirement already satisfied: python-dateutil>=2.8.2 in /usr/local/lib/python3.10/dist-packages (from pandas>=0.19->pmdarima) (2.8.2)\n",
            "Requirement already satisfied: pytz>=2020.1 in /usr/local/lib/python3.10/dist-packages (from pandas>=0.19->pmdarima) (2024.2)\n",
            "Requirement already satisfied: tzdata>=2022.7 in /usr/local/lib/python3.10/dist-packages (from pandas>=0.19->pmdarima) (2024.2)\n",
            "Requirement already satisfied: threadpoolctl>=3.1.0 in /usr/local/lib/python3.10/dist-packages (from scikit-learn>=0.22->pmdarima) (3.5.0)\n",
            "Requirement already satisfied: patsy>=0.5.6 in /usr/local/lib/python3.10/dist-packages (from statsmodels>=0.13.2->pmdarima) (1.0.1)\n",
            "Requirement already satisfied: six>=1.5 in /usr/local/lib/python3.10/dist-packages (from python-dateutil>=2.8.2->pandas>=0.19->pmdarima) (1.16.0)\n"
          ]
        }
      ],
      "source": [
        "pip install pmdarima"
      ]
    },
    {
      "cell_type": "markdown",
      "source": [
        "Importação das bibliotecas utilizadas na manipulação, tratamento, visualização, previsão e avaliação dos modelos."
      ],
      "metadata": {
        "id": "zvFU6nT_uxOJ"
      }
    },
    {
      "cell_type": "code",
      "source": [
        "import pandas as pd\n",
        "import numpy as np\n",
        "from pmdarima import auto_arima\n",
        "import matplotlib.pyplot as plt\n",
        "from statsmodels.tsa.stattools import adfuller\n",
        "from sklearn.metrics import mean_squared_error\n",
        "from statsmodels.tsa.arima.model import ARIMA\n",
        "from statsmodels.tsa.holtwinters import ExponentialSmoothing\n",
        "from xgboost import XGBRegressor\n",
        "from lightgbm import LGBMRegressor\n",
        "from sklearn.ensemble import RandomForestRegressor\n",
        "from sklearn.linear_model import LinearRegression\n",
        "from sklearn.svm import SVR\n",
        "from tensorflow.keras.models import Sequential\n",
        "from tensorflow.keras.layers import LSTM, Dense\n",
        "from sklearn.preprocessing import MinMaxScaler\n",
        "from sklearn.model_selection import GridSearchCV\n",
        "from tensorflow.keras.optimizers import Adam\n",
        "from sklearn.preprocessing import StandardScaler\n",
        "import warnings\n",
        "warnings.filterwarnings(\"ignore\")"
      ],
      "metadata": {
        "id": "KKPz_i3lmL0J"
      },
      "execution_count": 68,
      "outputs": []
    },
    {
      "cell_type": "markdown",
      "source": [
        "Atribuição do conjunto de dados a variável df."
      ],
      "metadata": {
        "id": "6L6ub3pgu_-v"
      }
    },
    {
      "cell_type": "code",
      "source": [
        "url = 'https://raw.githubusercontent.com/GuilhermeVarallo/MVP_MachineLearning_Analytics/refs/heads/main/Cadastro%20de%20Novos%20Benefici%C3%A1rios.csv'\n",
        "df = pd.read_csv(url, sep=';')"
      ],
      "metadata": {
        "id": "7nfo3hApmVMS"
      },
      "execution_count": 69,
      "outputs": []
    },
    {
      "cell_type": "markdown",
      "source": [
        "Demonstração das cinco primeiras linhas do dataframe, que contém duas colunas, uma referente a Data e a outra referente a Quantidade de Requerimentos mensais."
      ],
      "metadata": {
        "id": "TnWqDs7dvIsS"
      }
    },
    {
      "cell_type": "code",
      "source": [
        "df.head()"
      ],
      "metadata": {
        "colab": {
          "base_uri": "https://localhost:8080/",
          "height": 206
        },
        "id": "h8S2EPsomcFQ",
        "outputId": "425a5202-22d1-4f89-d29a-48bd0c81a701"
      },
      "execution_count": 70,
      "outputs": [
        {
          "output_type": "execute_result",
          "data": {
            "text/plain": [
              "         Data  Quantidade\n",
              "0  01/03/2022           5\n",
              "1  01/04/2022          27\n",
              "2  01/05/2022        1663\n",
              "3  01/06/2022        4024\n",
              "4  01/07/2022        9568"
            ],
            "text/html": [
              "\n",
              "  <div id=\"df-70948326-e78b-4a59-bc88-551ee4de8b46\" class=\"colab-df-container\">\n",
              "    <div>\n",
              "<style scoped>\n",
              "    .dataframe tbody tr th:only-of-type {\n",
              "        vertical-align: middle;\n",
              "    }\n",
              "\n",
              "    .dataframe tbody tr th {\n",
              "        vertical-align: top;\n",
              "    }\n",
              "\n",
              "    .dataframe thead th {\n",
              "        text-align: right;\n",
              "    }\n",
              "</style>\n",
              "<table border=\"1\" class=\"dataframe\">\n",
              "  <thead>\n",
              "    <tr style=\"text-align: right;\">\n",
              "      <th></th>\n",
              "      <th>Data</th>\n",
              "      <th>Quantidade</th>\n",
              "    </tr>\n",
              "  </thead>\n",
              "  <tbody>\n",
              "    <tr>\n",
              "      <th>0</th>\n",
              "      <td>01/03/2022</td>\n",
              "      <td>5</td>\n",
              "    </tr>\n",
              "    <tr>\n",
              "      <th>1</th>\n",
              "      <td>01/04/2022</td>\n",
              "      <td>27</td>\n",
              "    </tr>\n",
              "    <tr>\n",
              "      <th>2</th>\n",
              "      <td>01/05/2022</td>\n",
              "      <td>1663</td>\n",
              "    </tr>\n",
              "    <tr>\n",
              "      <th>3</th>\n",
              "      <td>01/06/2022</td>\n",
              "      <td>4024</td>\n",
              "    </tr>\n",
              "    <tr>\n",
              "      <th>4</th>\n",
              "      <td>01/07/2022</td>\n",
              "      <td>9568</td>\n",
              "    </tr>\n",
              "  </tbody>\n",
              "</table>\n",
              "</div>\n",
              "    <div class=\"colab-df-buttons\">\n",
              "\n",
              "  <div class=\"colab-df-container\">\n",
              "    <button class=\"colab-df-convert\" onclick=\"convertToInteractive('df-70948326-e78b-4a59-bc88-551ee4de8b46')\"\n",
              "            title=\"Convert this dataframe to an interactive table.\"\n",
              "            style=\"display:none;\">\n",
              "\n",
              "  <svg xmlns=\"http://www.w3.org/2000/svg\" height=\"24px\" viewBox=\"0 -960 960 960\">\n",
              "    <path d=\"M120-120v-720h720v720H120Zm60-500h600v-160H180v160Zm220 220h160v-160H400v160Zm0 220h160v-160H400v160ZM180-400h160v-160H180v160Zm440 0h160v-160H620v160ZM180-180h160v-160H180v160Zm440 0h160v-160H620v160Z\"/>\n",
              "  </svg>\n",
              "    </button>\n",
              "\n",
              "  <style>\n",
              "    .colab-df-container {\n",
              "      display:flex;\n",
              "      gap: 12px;\n",
              "    }\n",
              "\n",
              "    .colab-df-convert {\n",
              "      background-color: #E8F0FE;\n",
              "      border: none;\n",
              "      border-radius: 50%;\n",
              "      cursor: pointer;\n",
              "      display: none;\n",
              "      fill: #1967D2;\n",
              "      height: 32px;\n",
              "      padding: 0 0 0 0;\n",
              "      width: 32px;\n",
              "    }\n",
              "\n",
              "    .colab-df-convert:hover {\n",
              "      background-color: #E2EBFA;\n",
              "      box-shadow: 0px 1px 2px rgba(60, 64, 67, 0.3), 0px 1px 3px 1px rgba(60, 64, 67, 0.15);\n",
              "      fill: #174EA6;\n",
              "    }\n",
              "\n",
              "    .colab-df-buttons div {\n",
              "      margin-bottom: 4px;\n",
              "    }\n",
              "\n",
              "    [theme=dark] .colab-df-convert {\n",
              "      background-color: #3B4455;\n",
              "      fill: #D2E3FC;\n",
              "    }\n",
              "\n",
              "    [theme=dark] .colab-df-convert:hover {\n",
              "      background-color: #434B5C;\n",
              "      box-shadow: 0px 1px 3px 1px rgba(0, 0, 0, 0.15);\n",
              "      filter: drop-shadow(0px 1px 2px rgba(0, 0, 0, 0.3));\n",
              "      fill: #FFFFFF;\n",
              "    }\n",
              "  </style>\n",
              "\n",
              "    <script>\n",
              "      const buttonEl =\n",
              "        document.querySelector('#df-70948326-e78b-4a59-bc88-551ee4de8b46 button.colab-df-convert');\n",
              "      buttonEl.style.display =\n",
              "        google.colab.kernel.accessAllowed ? 'block' : 'none';\n",
              "\n",
              "      async function convertToInteractive(key) {\n",
              "        const element = document.querySelector('#df-70948326-e78b-4a59-bc88-551ee4de8b46');\n",
              "        const dataTable =\n",
              "          await google.colab.kernel.invokeFunction('convertToInteractive',\n",
              "                                                    [key], {});\n",
              "        if (!dataTable) return;\n",
              "\n",
              "        const docLinkHtml = 'Like what you see? Visit the ' +\n",
              "          '<a target=\"_blank\" href=https://colab.research.google.com/notebooks/data_table.ipynb>data table notebook</a>'\n",
              "          + ' to learn more about interactive tables.';\n",
              "        element.innerHTML = '';\n",
              "        dataTable['output_type'] = 'display_data';\n",
              "        await google.colab.output.renderOutput(dataTable, element);\n",
              "        const docLink = document.createElement('div');\n",
              "        docLink.innerHTML = docLinkHtml;\n",
              "        element.appendChild(docLink);\n",
              "      }\n",
              "    </script>\n",
              "  </div>\n",
              "\n",
              "\n",
              "<div id=\"df-612d2fb1-b077-45ec-8d6b-23ff8e83500b\">\n",
              "  <button class=\"colab-df-quickchart\" onclick=\"quickchart('df-612d2fb1-b077-45ec-8d6b-23ff8e83500b')\"\n",
              "            title=\"Suggest charts\"\n",
              "            style=\"display:none;\">\n",
              "\n",
              "<svg xmlns=\"http://www.w3.org/2000/svg\" height=\"24px\"viewBox=\"0 0 24 24\"\n",
              "     width=\"24px\">\n",
              "    <g>\n",
              "        <path d=\"M19 3H5c-1.1 0-2 .9-2 2v14c0 1.1.9 2 2 2h14c1.1 0 2-.9 2-2V5c0-1.1-.9-2-2-2zM9 17H7v-7h2v7zm4 0h-2V7h2v10zm4 0h-2v-4h2v4z\"/>\n",
              "    </g>\n",
              "</svg>\n",
              "  </button>\n",
              "\n",
              "<style>\n",
              "  .colab-df-quickchart {\n",
              "      --bg-color: #E8F0FE;\n",
              "      --fill-color: #1967D2;\n",
              "      --hover-bg-color: #E2EBFA;\n",
              "      --hover-fill-color: #174EA6;\n",
              "      --disabled-fill-color: #AAA;\n",
              "      --disabled-bg-color: #DDD;\n",
              "  }\n",
              "\n",
              "  [theme=dark] .colab-df-quickchart {\n",
              "      --bg-color: #3B4455;\n",
              "      --fill-color: #D2E3FC;\n",
              "      --hover-bg-color: #434B5C;\n",
              "      --hover-fill-color: #FFFFFF;\n",
              "      --disabled-bg-color: #3B4455;\n",
              "      --disabled-fill-color: #666;\n",
              "  }\n",
              "\n",
              "  .colab-df-quickchart {\n",
              "    background-color: var(--bg-color);\n",
              "    border: none;\n",
              "    border-radius: 50%;\n",
              "    cursor: pointer;\n",
              "    display: none;\n",
              "    fill: var(--fill-color);\n",
              "    height: 32px;\n",
              "    padding: 0;\n",
              "    width: 32px;\n",
              "  }\n",
              "\n",
              "  .colab-df-quickchart:hover {\n",
              "    background-color: var(--hover-bg-color);\n",
              "    box-shadow: 0 1px 2px rgba(60, 64, 67, 0.3), 0 1px 3px 1px rgba(60, 64, 67, 0.15);\n",
              "    fill: var(--button-hover-fill-color);\n",
              "  }\n",
              "\n",
              "  .colab-df-quickchart-complete:disabled,\n",
              "  .colab-df-quickchart-complete:disabled:hover {\n",
              "    background-color: var(--disabled-bg-color);\n",
              "    fill: var(--disabled-fill-color);\n",
              "    box-shadow: none;\n",
              "  }\n",
              "\n",
              "  .colab-df-spinner {\n",
              "    border: 2px solid var(--fill-color);\n",
              "    border-color: transparent;\n",
              "    border-bottom-color: var(--fill-color);\n",
              "    animation:\n",
              "      spin 1s steps(1) infinite;\n",
              "  }\n",
              "\n",
              "  @keyframes spin {\n",
              "    0% {\n",
              "      border-color: transparent;\n",
              "      border-bottom-color: var(--fill-color);\n",
              "      border-left-color: var(--fill-color);\n",
              "    }\n",
              "    20% {\n",
              "      border-color: transparent;\n",
              "      border-left-color: var(--fill-color);\n",
              "      border-top-color: var(--fill-color);\n",
              "    }\n",
              "    30% {\n",
              "      border-color: transparent;\n",
              "      border-left-color: var(--fill-color);\n",
              "      border-top-color: var(--fill-color);\n",
              "      border-right-color: var(--fill-color);\n",
              "    }\n",
              "    40% {\n",
              "      border-color: transparent;\n",
              "      border-right-color: var(--fill-color);\n",
              "      border-top-color: var(--fill-color);\n",
              "    }\n",
              "    60% {\n",
              "      border-color: transparent;\n",
              "      border-right-color: var(--fill-color);\n",
              "    }\n",
              "    80% {\n",
              "      border-color: transparent;\n",
              "      border-right-color: var(--fill-color);\n",
              "      border-bottom-color: var(--fill-color);\n",
              "    }\n",
              "    90% {\n",
              "      border-color: transparent;\n",
              "      border-bottom-color: var(--fill-color);\n",
              "    }\n",
              "  }\n",
              "</style>\n",
              "\n",
              "  <script>\n",
              "    async function quickchart(key) {\n",
              "      const quickchartButtonEl =\n",
              "        document.querySelector('#' + key + ' button');\n",
              "      quickchartButtonEl.disabled = true;  // To prevent multiple clicks.\n",
              "      quickchartButtonEl.classList.add('colab-df-spinner');\n",
              "      try {\n",
              "        const charts = await google.colab.kernel.invokeFunction(\n",
              "            'suggestCharts', [key], {});\n",
              "      } catch (error) {\n",
              "        console.error('Error during call to suggestCharts:', error);\n",
              "      }\n",
              "      quickchartButtonEl.classList.remove('colab-df-spinner');\n",
              "      quickchartButtonEl.classList.add('colab-df-quickchart-complete');\n",
              "    }\n",
              "    (() => {\n",
              "      let quickchartButtonEl =\n",
              "        document.querySelector('#df-612d2fb1-b077-45ec-8d6b-23ff8e83500b button');\n",
              "      quickchartButtonEl.style.display =\n",
              "        google.colab.kernel.accessAllowed ? 'block' : 'none';\n",
              "    })();\n",
              "  </script>\n",
              "</div>\n",
              "\n",
              "    </div>\n",
              "  </div>\n"
            ],
            "application/vnd.google.colaboratory.intrinsic+json": {
              "type": "dataframe",
              "variable_name": "df",
              "summary": "{\n  \"name\": \"df\",\n  \"rows\": 32,\n  \"fields\": [\n    {\n      \"column\": \"Data\",\n      \"properties\": {\n        \"dtype\": \"object\",\n        \"num_unique_values\": 32,\n        \"samples\": [\n          \"01/08/2024\",\n          \"01/06/2023\",\n          \"01/03/2024\"\n        ],\n        \"semantic_type\": \"\",\n        \"description\": \"\"\n      }\n    },\n    {\n      \"column\": \"Quantidade\",\n      \"properties\": {\n        \"dtype\": \"number\",\n        \"std\": 2312,\n        \"min\": 5,\n        \"max\": 9568,\n        \"num_unique_values\": 32,\n        \"samples\": [\n          2294,\n          2375,\n          2023\n        ],\n        \"semantic_type\": \"\",\n        \"description\": \"\"\n      }\n    }\n  ]\n}"
            }
          },
          "metadata": {},
          "execution_count": 70
        }
      ]
    },
    {
      "cell_type": "markdown",
      "source": [
        "Demonstração da quantidade de valores por colunas, incluindo a quantidade de não-nulos e o tipo dos dados. O dataframe contém 32 linhas, nenhum valor nulo e os tipos dos dados são datetime e int64."
      ],
      "metadata": {
        "id": "CrMjlvxHvMox"
      }
    },
    {
      "cell_type": "code",
      "source": [
        "df.info()"
      ],
      "metadata": {
        "colab": {
          "base_uri": "https://localhost:8080/"
        },
        "id": "exDiAxQBmhxV",
        "outputId": "ff54546b-1bc4-467f-f696-6ff5dd5d95e9"
      },
      "execution_count": 71,
      "outputs": [
        {
          "output_type": "stream",
          "name": "stdout",
          "text": [
            "<class 'pandas.core.frame.DataFrame'>\n",
            "RangeIndex: 32 entries, 0 to 31\n",
            "Data columns (total 2 columns):\n",
            " #   Column      Non-Null Count  Dtype \n",
            "---  ------      --------------  ----- \n",
            " 0   Data        32 non-null     object\n",
            " 1   Quantidade  32 non-null     int64 \n",
            "dtypes: int64(1), object(1)\n",
            "memory usage: 640.0+ bytes\n"
          ]
        }
      ]
    },
    {
      "cell_type": "markdown",
      "source": [
        "Descrição estatística do conjunto de dados, contemplando a quantidade de dados, média, valor mínimo, máximo, desvio padrão e quartis. É possível perceber que os dados apresentam elevada amplitude, com o valor mínimo de 5 e o máximo de 9568, além de um descvio padrão de 2312."
      ],
      "metadata": {
        "id": "yz9Pe8F3dx7S"
      }
    },
    {
      "cell_type": "code",
      "source": [
        "df.describe()"
      ],
      "metadata": {
        "colab": {
          "base_uri": "https://localhost:8080/",
          "height": 300
        },
        "id": "f9W-FCa3mi4e",
        "outputId": "bd56c352-8318-44cf-8673-7560b96e75a9"
      },
      "execution_count": 72,
      "outputs": [
        {
          "output_type": "execute_result",
          "data": {
            "text/plain": [
              "       Quantidade\n",
              "count     32.0000\n",
              "mean    3252.4375\n",
              "std     2312.9987\n",
              "min        5.0000\n",
              "25%     2050.0000\n",
              "50%     2321.0000\n",
              "75%     3481.7500\n",
              "max     9568.0000"
            ],
            "text/html": [
              "\n",
              "  <div id=\"df-c473200a-69cf-4376-aac3-9b1eff2b1f13\" class=\"colab-df-container\">\n",
              "    <div>\n",
              "<style scoped>\n",
              "    .dataframe tbody tr th:only-of-type {\n",
              "        vertical-align: middle;\n",
              "    }\n",
              "\n",
              "    .dataframe tbody tr th {\n",
              "        vertical-align: top;\n",
              "    }\n",
              "\n",
              "    .dataframe thead th {\n",
              "        text-align: right;\n",
              "    }\n",
              "</style>\n",
              "<table border=\"1\" class=\"dataframe\">\n",
              "  <thead>\n",
              "    <tr style=\"text-align: right;\">\n",
              "      <th></th>\n",
              "      <th>Quantidade</th>\n",
              "    </tr>\n",
              "  </thead>\n",
              "  <tbody>\n",
              "    <tr>\n",
              "      <th>count</th>\n",
              "      <td>32.0000</td>\n",
              "    </tr>\n",
              "    <tr>\n",
              "      <th>mean</th>\n",
              "      <td>3252.4375</td>\n",
              "    </tr>\n",
              "    <tr>\n",
              "      <th>std</th>\n",
              "      <td>2312.9987</td>\n",
              "    </tr>\n",
              "    <tr>\n",
              "      <th>min</th>\n",
              "      <td>5.0000</td>\n",
              "    </tr>\n",
              "    <tr>\n",
              "      <th>25%</th>\n",
              "      <td>2050.0000</td>\n",
              "    </tr>\n",
              "    <tr>\n",
              "      <th>50%</th>\n",
              "      <td>2321.0000</td>\n",
              "    </tr>\n",
              "    <tr>\n",
              "      <th>75%</th>\n",
              "      <td>3481.7500</td>\n",
              "    </tr>\n",
              "    <tr>\n",
              "      <th>max</th>\n",
              "      <td>9568.0000</td>\n",
              "    </tr>\n",
              "  </tbody>\n",
              "</table>\n",
              "</div>\n",
              "    <div class=\"colab-df-buttons\">\n",
              "\n",
              "  <div class=\"colab-df-container\">\n",
              "    <button class=\"colab-df-convert\" onclick=\"convertToInteractive('df-c473200a-69cf-4376-aac3-9b1eff2b1f13')\"\n",
              "            title=\"Convert this dataframe to an interactive table.\"\n",
              "            style=\"display:none;\">\n",
              "\n",
              "  <svg xmlns=\"http://www.w3.org/2000/svg\" height=\"24px\" viewBox=\"0 -960 960 960\">\n",
              "    <path d=\"M120-120v-720h720v720H120Zm60-500h600v-160H180v160Zm220 220h160v-160H400v160Zm0 220h160v-160H400v160ZM180-400h160v-160H180v160Zm440 0h160v-160H620v160ZM180-180h160v-160H180v160Zm440 0h160v-160H620v160Z\"/>\n",
              "  </svg>\n",
              "    </button>\n",
              "\n",
              "  <style>\n",
              "    .colab-df-container {\n",
              "      display:flex;\n",
              "      gap: 12px;\n",
              "    }\n",
              "\n",
              "    .colab-df-convert {\n",
              "      background-color: #E8F0FE;\n",
              "      border: none;\n",
              "      border-radius: 50%;\n",
              "      cursor: pointer;\n",
              "      display: none;\n",
              "      fill: #1967D2;\n",
              "      height: 32px;\n",
              "      padding: 0 0 0 0;\n",
              "      width: 32px;\n",
              "    }\n",
              "\n",
              "    .colab-df-convert:hover {\n",
              "      background-color: #E2EBFA;\n",
              "      box-shadow: 0px 1px 2px rgba(60, 64, 67, 0.3), 0px 1px 3px 1px rgba(60, 64, 67, 0.15);\n",
              "      fill: #174EA6;\n",
              "    }\n",
              "\n",
              "    .colab-df-buttons div {\n",
              "      margin-bottom: 4px;\n",
              "    }\n",
              "\n",
              "    [theme=dark] .colab-df-convert {\n",
              "      background-color: #3B4455;\n",
              "      fill: #D2E3FC;\n",
              "    }\n",
              "\n",
              "    [theme=dark] .colab-df-convert:hover {\n",
              "      background-color: #434B5C;\n",
              "      box-shadow: 0px 1px 3px 1px rgba(0, 0, 0, 0.15);\n",
              "      filter: drop-shadow(0px 1px 2px rgba(0, 0, 0, 0.3));\n",
              "      fill: #FFFFFF;\n",
              "    }\n",
              "  </style>\n",
              "\n",
              "    <script>\n",
              "      const buttonEl =\n",
              "        document.querySelector('#df-c473200a-69cf-4376-aac3-9b1eff2b1f13 button.colab-df-convert');\n",
              "      buttonEl.style.display =\n",
              "        google.colab.kernel.accessAllowed ? 'block' : 'none';\n",
              "\n",
              "      async function convertToInteractive(key) {\n",
              "        const element = document.querySelector('#df-c473200a-69cf-4376-aac3-9b1eff2b1f13');\n",
              "        const dataTable =\n",
              "          await google.colab.kernel.invokeFunction('convertToInteractive',\n",
              "                                                    [key], {});\n",
              "        if (!dataTable) return;\n",
              "\n",
              "        const docLinkHtml = 'Like what you see? Visit the ' +\n",
              "          '<a target=\"_blank\" href=https://colab.research.google.com/notebooks/data_table.ipynb>data table notebook</a>'\n",
              "          + ' to learn more about interactive tables.';\n",
              "        element.innerHTML = '';\n",
              "        dataTable['output_type'] = 'display_data';\n",
              "        await google.colab.output.renderOutput(dataTable, element);\n",
              "        const docLink = document.createElement('div');\n",
              "        docLink.innerHTML = docLinkHtml;\n",
              "        element.appendChild(docLink);\n",
              "      }\n",
              "    </script>\n",
              "  </div>\n",
              "\n",
              "\n",
              "<div id=\"df-210d0d89-ca8c-4e60-9cbc-f2534f87d276\">\n",
              "  <button class=\"colab-df-quickchart\" onclick=\"quickchart('df-210d0d89-ca8c-4e60-9cbc-f2534f87d276')\"\n",
              "            title=\"Suggest charts\"\n",
              "            style=\"display:none;\">\n",
              "\n",
              "<svg xmlns=\"http://www.w3.org/2000/svg\" height=\"24px\"viewBox=\"0 0 24 24\"\n",
              "     width=\"24px\">\n",
              "    <g>\n",
              "        <path d=\"M19 3H5c-1.1 0-2 .9-2 2v14c0 1.1.9 2 2 2h14c1.1 0 2-.9 2-2V5c0-1.1-.9-2-2-2zM9 17H7v-7h2v7zm4 0h-2V7h2v10zm4 0h-2v-4h2v4z\"/>\n",
              "    </g>\n",
              "</svg>\n",
              "  </button>\n",
              "\n",
              "<style>\n",
              "  .colab-df-quickchart {\n",
              "      --bg-color: #E8F0FE;\n",
              "      --fill-color: #1967D2;\n",
              "      --hover-bg-color: #E2EBFA;\n",
              "      --hover-fill-color: #174EA6;\n",
              "      --disabled-fill-color: #AAA;\n",
              "      --disabled-bg-color: #DDD;\n",
              "  }\n",
              "\n",
              "  [theme=dark] .colab-df-quickchart {\n",
              "      --bg-color: #3B4455;\n",
              "      --fill-color: #D2E3FC;\n",
              "      --hover-bg-color: #434B5C;\n",
              "      --hover-fill-color: #FFFFFF;\n",
              "      --disabled-bg-color: #3B4455;\n",
              "      --disabled-fill-color: #666;\n",
              "  }\n",
              "\n",
              "  .colab-df-quickchart {\n",
              "    background-color: var(--bg-color);\n",
              "    border: none;\n",
              "    border-radius: 50%;\n",
              "    cursor: pointer;\n",
              "    display: none;\n",
              "    fill: var(--fill-color);\n",
              "    height: 32px;\n",
              "    padding: 0;\n",
              "    width: 32px;\n",
              "  }\n",
              "\n",
              "  .colab-df-quickchart:hover {\n",
              "    background-color: var(--hover-bg-color);\n",
              "    box-shadow: 0 1px 2px rgba(60, 64, 67, 0.3), 0 1px 3px 1px rgba(60, 64, 67, 0.15);\n",
              "    fill: var(--button-hover-fill-color);\n",
              "  }\n",
              "\n",
              "  .colab-df-quickchart-complete:disabled,\n",
              "  .colab-df-quickchart-complete:disabled:hover {\n",
              "    background-color: var(--disabled-bg-color);\n",
              "    fill: var(--disabled-fill-color);\n",
              "    box-shadow: none;\n",
              "  }\n",
              "\n",
              "  .colab-df-spinner {\n",
              "    border: 2px solid var(--fill-color);\n",
              "    border-color: transparent;\n",
              "    border-bottom-color: var(--fill-color);\n",
              "    animation:\n",
              "      spin 1s steps(1) infinite;\n",
              "  }\n",
              "\n",
              "  @keyframes spin {\n",
              "    0% {\n",
              "      border-color: transparent;\n",
              "      border-bottom-color: var(--fill-color);\n",
              "      border-left-color: var(--fill-color);\n",
              "    }\n",
              "    20% {\n",
              "      border-color: transparent;\n",
              "      border-left-color: var(--fill-color);\n",
              "      border-top-color: var(--fill-color);\n",
              "    }\n",
              "    30% {\n",
              "      border-color: transparent;\n",
              "      border-left-color: var(--fill-color);\n",
              "      border-top-color: var(--fill-color);\n",
              "      border-right-color: var(--fill-color);\n",
              "    }\n",
              "    40% {\n",
              "      border-color: transparent;\n",
              "      border-right-color: var(--fill-color);\n",
              "      border-top-color: var(--fill-color);\n",
              "    }\n",
              "    60% {\n",
              "      border-color: transparent;\n",
              "      border-right-color: var(--fill-color);\n",
              "    }\n",
              "    80% {\n",
              "      border-color: transparent;\n",
              "      border-right-color: var(--fill-color);\n",
              "      border-bottom-color: var(--fill-color);\n",
              "    }\n",
              "    90% {\n",
              "      border-color: transparent;\n",
              "      border-bottom-color: var(--fill-color);\n",
              "    }\n",
              "  }\n",
              "</style>\n",
              "\n",
              "  <script>\n",
              "    async function quickchart(key) {\n",
              "      const quickchartButtonEl =\n",
              "        document.querySelector('#' + key + ' button');\n",
              "      quickchartButtonEl.disabled = true;  // To prevent multiple clicks.\n",
              "      quickchartButtonEl.classList.add('colab-df-spinner');\n",
              "      try {\n",
              "        const charts = await google.colab.kernel.invokeFunction(\n",
              "            'suggestCharts', [key], {});\n",
              "      } catch (error) {\n",
              "        console.error('Error during call to suggestCharts:', error);\n",
              "      }\n",
              "      quickchartButtonEl.classList.remove('colab-df-spinner');\n",
              "      quickchartButtonEl.classList.add('colab-df-quickchart-complete');\n",
              "    }\n",
              "    (() => {\n",
              "      let quickchartButtonEl =\n",
              "        document.querySelector('#df-210d0d89-ca8c-4e60-9cbc-f2534f87d276 button');\n",
              "      quickchartButtonEl.style.display =\n",
              "        google.colab.kernel.accessAllowed ? 'block' : 'none';\n",
              "    })();\n",
              "  </script>\n",
              "</div>\n",
              "\n",
              "    </div>\n",
              "  </div>\n"
            ],
            "application/vnd.google.colaboratory.intrinsic+json": {
              "type": "dataframe",
              "summary": "{\n  \"name\": \"df\",\n  \"rows\": 8,\n  \"fields\": [\n    {\n      \"column\": \"Quantidade\",\n      \"properties\": {\n        \"dtype\": \"number\",\n        \"std\": 2998.3262448910514,\n        \"min\": 5.0,\n        \"max\": 9568.0,\n        \"num_unique_values\": 8,\n        \"samples\": [\n          3252.4375,\n          2321.0,\n          32.0\n        ],\n        \"semantic_type\": \"\",\n        \"description\": \"\"\n      }\n    }\n  ]\n}"
            }
          },
          "metadata": {},
          "execution_count": 72
        }
      ]
    },
    {
      "cell_type": "markdown",
      "source": [
        "Visualização da quantidade de requerimentos ao longo do tempo, reafirmando a elevada variância dos dados em determinados períodos, que diminuiu consideravelmente nos últimos meses."
      ],
      "metadata": {
        "id": "OJt7ZHjZeMTj"
      }
    },
    {
      "cell_type": "code",
      "source": [
        "plt.figure(figsize=(10,6))\n",
        "plt.plot(df['Data'], df['Quantidade'])\n",
        "plt.grid(linestyle=':',color='gray',linewidth=0.8)\n",
        "plt.title('Quantidade de Requerimentos ao longo do tempo')\n",
        "plt.xlabel('Data',fontsize=11)\n",
        "plt.ylabel('Quantidade de Requerimentos',fontsize=11)\n",
        "plt.xticks(rotation=90)\n",
        "plt.show()"
      ],
      "metadata": {
        "colab": {
          "base_uri": "https://localhost:8080/",
          "height": 631
        },
        "id": "4xiowiS9mogh",
        "outputId": "938eac9d-52e0-45fd-f5e2-253fec25714f"
      },
      "execution_count": 73,
      "outputs": [
        {
          "output_type": "display_data",
          "data": {
            "text/plain": [
              "<Figure size 1000x600 with 1 Axes>"
            ],
            "image/png": "[encoded data removed]"
          },
          "metadata": {}
        }
      ]
    },
    {
      "cell_type": "markdown",
      "source": [
        "Gráfico da distribuição de frequência dos valores. A grande maioria dos valores está presente no intervalo de 2000 a 4000 requerimentos."
      ],
      "metadata": {
        "id": "uN6e2x-CemNB"
      }
    },
    {
      "cell_type": "code",
      "source": [
        "plt.figure(figsize=(10,6))\n",
        "plt.hist(df['Quantidade'],bins=5, edgecolor='black')\n",
        "plt.title('Histograma da Quantidade de Requerimentos')\n",
        "plt.xlabel('Quantidade de Requerimentos',fontsize=11)\n",
        "plt.ylabel('Frequeência',fontsize=11)\n",
        "plt.show()"
      ],
      "metadata": {
        "colab": {
          "base_uri": "https://localhost:8080/",
          "height": 565
        },
        "id": "5AwyJGITm1WM",
        "outputId": "163366d5-6f50-4072-bfb7-33ba30860f92"
      },
      "execution_count": 74,
      "outputs": [
        {
          "output_type": "display_data",
          "data": {
            "text/plain": [
              "<Figure size 1000x600 with 1 Axes>"
            ],
            "image/png": "[encoded data removed]"
          },
          "metadata": {}
        }
      ]
    },
    {
      "cell_type": "markdown",
      "source": [
        "Teste Dickey-Fuller aumentado, utilizando para verificar a estacionaridade da série temporal. O p-valor elevado demonstra que a série temporal não é estacionária."
      ],
      "metadata": {
        "id": "XNkGxxhZez_1"
      }
    },
    {
      "cell_type": "code",
      "source": [
        "resultado = adfuller(df['Quantidade'])\n",
        "print(\"Estatística ADF:\", resultado[0])\n",
        "print(\"p-valor:\", resultado[1])\n",
        "print(\"Número de lags usados:\", resultado[2])\n",
        "print(\"Número de observações:\", resultado[3])\n",
        "print(\"Valores críticos:\")\n",
        "for key, value in resultado[4].items():\n",
        "    print(f'    {key}: {value}')"
      ],
      "metadata": {
        "colab": {
          "base_uri": "https://localhost:8080/"
        },
        "id": "u6yC6HGTn5eY",
        "outputId": "6dd050ac-4d7c-4a8d-ccfc-f9640c48d328"
      },
      "execution_count": 75,
      "outputs": [
        {
          "output_type": "stream",
          "name": "stdout",
          "text": [
            "Estatística ADF: -0.64432944333612\n",
            "p-valor: 0.8606475623209464\n",
            "Número de lags usados: 10\n",
            "Número de observações: 21\n",
            "Valores críticos:\n",
            "    1%: -3.7883858816542486\n",
            "    5%: -3.013097747543462\n",
            "    10%: -2.6463967573696143\n"
          ]
        }
      ]
    },
    {
      "cell_type": "markdown",
      "source": [
        "Teste Dickey-Fuller aumentado após transformação logarítmica dos valores que, conforme p-valor, tornou a série estacionária."
      ],
      "metadata": {
        "id": "nz9UJrTEe_MQ"
      }
    },
    {
      "cell_type": "code",
      "source": [
        "log_serie = np.log(df['Quantidade'])\n",
        "resultado_log = adfuller(log_serie)\n",
        "print(\"Estatística ADF:\", resultado_log[0])\n",
        "print(\"p-valor:\", resultado_log[1])\n",
        "print(\"Número de lags usados:\", resultado_log[2])\n",
        "print(\"Número de observações:\", resultado_log[3])\n",
        "print(\"Valores críticos:\")\n",
        "for key, value in resultado_log[4].items():\n",
        "    print(f'    {key}: {value}')"
      ],
      "metadata": {
        "colab": {
          "base_uri": "https://localhost:8080/"
        },
        "id": "CwOpbaopp4fi",
        "outputId": "450556d4-21a6-485e-aced-6e4c9759a490"
      },
      "execution_count": 76,
      "outputs": [
        {
          "output_type": "stream",
          "name": "stdout",
          "text": [
            "Estatística ADF: -6.698314539492368\n",
            "p-valor: 3.947620797913334e-09\n",
            "Número de lags usados: 0\n",
            "Número de observações: 31\n",
            "Valores críticos:\n",
            "    1%: -3.661428725118324\n",
            "    5%: -2.960525341210433\n",
            "    10%: -2.6193188033298647\n"
          ]
        }
      ]
    },
    {
      "cell_type": "markdown",
      "source": [
        "Atribuição ao dataframe dos valores que passaram por transformação logarítmica e definição da coluna Data como índice."
      ],
      "metadata": {
        "id": "4JnqbGF-fa06"
      }
    },
    {
      "cell_type": "code",
      "source": [
        "df['Quantidade_log'] = log_serie\n",
        "df.drop('Quantidade',axis=1,inplace=True)\n",
        "df['Data'] = pd.to_datetime(df['Data'],format='%d/%m/%Y')\n",
        "df.set_index('Data',inplace=True)"
      ],
      "metadata": {
        "id": "wz1o443KqcIQ"
      },
      "execution_count": 77,
      "outputs": []
    },
    {
      "cell_type": "markdown",
      "source": [
        "Demonstração das cinco primeiras linhas do dataframe."
      ],
      "metadata": {
        "id": "qu7vY_oyfjYA"
      }
    },
    {
      "cell_type": "code",
      "source": [
        "df.head()"
      ],
      "metadata": {
        "colab": {
          "base_uri": "https://localhost:8080/",
          "height": 237
        },
        "id": "1O-3kuezruCU",
        "outputId": "9eec6993-09b4-40b5-97f0-a91914768e17"
      },
      "execution_count": 78,
      "outputs": [
        {
          "output_type": "execute_result",
          "data": {
            "text/plain": [
              "            Quantidade_log\n",
              "Data                      \n",
              "2022-03-01          1.6094\n",
              "2022-04-01          3.2958\n",
              "2022-05-01          7.4164\n",
              "2022-06-01          8.3000\n",
              "2022-07-01          9.1662"
            ],
            "text/html": [
              "\n",
              "  <div id=\"df-f248b3cc-9a15-4d8d-a014-3f5fbc69e002\" class=\"colab-df-container\">\n",
              "    <div>\n",
              "<style scoped>\n",
              "    .dataframe tbody tr th:only-of-type {\n",
              "        vertical-align: middle;\n",
              "    }\n",
              "\n",
              "    .dataframe tbody tr th {\n",
              "        vertical-align: top;\n",
              "    }\n",
              "\n",
              "    .dataframe thead th {\n",
              "        text-align: right;\n",
              "    }\n",
              "</style>\n",
              "<table border=\"1\" class=\"dataframe\">\n",
              "  <thead>\n",
              "    <tr style=\"text-align: right;\">\n",
              "      <th></th>\n",
              "      <th>Quantidade_log</th>\n",
              "    </tr>\n",
              "    <tr>\n",
              "      <th>Data</th>\n",
              "      <th></th>\n",
              "    </tr>\n",
              "  </thead>\n",
              "  <tbody>\n",
              "    <tr>\n",
              "      <th>2022-03-01</th>\n",
              "      <td>1.6094</td>\n",
              "    </tr>\n",
              "    <tr>\n",
              "      <th>2022-04-01</th>\n",
              "      <td>3.2958</td>\n",
              "    </tr>\n",
              "    <tr>\n",
              "      <th>2022-05-01</th>\n",
              "      <td>7.4164</td>\n",
              "    </tr>\n",
              "    <tr>\n",
              "      <th>2022-06-01</th>\n",
              "      <td>8.3000</td>\n",
              "    </tr>\n",
              "    <tr>\n",
              "      <th>2022-07-01</th>\n",
              "      <td>9.1662</td>\n",
              "    </tr>\n",
              "  </tbody>\n",
              "</table>\n",
              "</div>\n",
              "    <div class=\"colab-df-buttons\">\n",
              "\n",
              "  <div class=\"colab-df-container\">\n",
              "    <button class=\"colab-df-convert\" onclick=\"convertToInteractive('df-f248b3cc-9a15-4d8d-a014-3f5fbc69e002')\"\n",
              "            title=\"Convert this dataframe to an interactive table.\"\n",
              "            style=\"display:none;\">\n",
              "\n",
              "  <svg xmlns=\"http://www.w3.org/2000/svg\" height=\"24px\" viewBox=\"0 -960 960 960\">\n",
              "    <path d=\"M120-120v-720h720v720H120Zm60-500h600v-160H180v160Zm220 220h160v-160H400v160Zm0 220h160v-160H400v160ZM180-400h160v-160H180v160Zm440 0h160v-160H620v160ZM180-180h160v-160H180v160Zm440 0h160v-160H620v160Z\"/>\n",
              "  </svg>\n",
              "    </button>\n",
              "\n",
              "  <style>\n",
              "    .colab-df-container {\n",
              "      display:flex;\n",
              "      gap: 12px;\n",
              "    }\n",
              "\n",
              "    .colab-df-convert {\n",
              "      background-color: #E8F0FE;\n",
              "      border: none;\n",
              "      border-radius: 50%;\n",
              "      cursor: pointer;\n",
              "      display: none;\n",
              "      fill: #1967D2;\n",
              "      height: 32px;\n",
              "      padding: 0 0 0 0;\n",
              "      width: 32px;\n",
              "    }\n",
              "\n",
              "    .colab-df-convert:hover {\n",
              "      background-color: #E2EBFA;\n",
              "      box-shadow: 0px 1px 2px rgba(60, 64, 67, 0.3), 0px 1px 3px 1px rgba(60, 64, 67, 0.15);\n",
              "      fill: #174EA6;\n",
              "    }\n",
              "\n",
              "    .colab-df-buttons div {\n",
              "      margin-bottom: 4px;\n",
              "    }\n",
              "\n",
              "    [theme=dark] .colab-df-convert {\n",
              "      background-color: #3B4455;\n",
              "      fill: #D2E3FC;\n",
              "    }\n",
              "\n",
              "    [theme=dark] .colab-df-convert:hover {\n",
              "      background-color: #434B5C;\n",
              "      box-shadow: 0px 1px 3px 1px rgba(0, 0, 0, 0.15);\n",
              "      filter: drop-shadow(0px 1px 2px rgba(0, 0, 0, 0.3));\n",
              "      fill: #FFFFFF;\n",
              "    }\n",
              "  </style>\n",
              "\n",
              "    <script>\n",
              "      const buttonEl =\n",
              "        document.querySelector('#df-f248b3cc-9a15-4d8d-a014-3f5fbc69e002 button.colab-df-convert');\n",
              "      buttonEl.style.display =\n",
              "        google.colab.kernel.accessAllowed ? 'block' : 'none';\n",
              "\n",
              "      async function convertToInteractive(key) {\n",
              "        const element = document.querySelector('#df-f248b3cc-9a15-4d8d-a014-3f5fbc69e002');\n",
              "        const dataTable =\n",
              "          await google.colab.kernel.invokeFunction('convertToInteractive',\n",
              "                                                    [key], {});\n",
              "        if (!dataTable) return;\n",
              "\n",
              "        const docLinkHtml = 'Like what you see? Visit the ' +\n",
              "          '<a target=\"_blank\" href=https://colab.research.google.com/notebooks/data_table.ipynb>data table notebook</a>'\n",
              "          + ' to learn more about interactive tables.';\n",
              "        element.innerHTML = '';\n",
              "        dataTable['output_type'] = 'display_data';\n",
              "        await google.colab.output.renderOutput(dataTable, element);\n",
              "        const docLink = document.createElement('div');\n",
              "        docLink.innerHTML = docLinkHtml;\n",
              "        element.appendChild(docLink);\n",
              "      }\n",
              "    </script>\n",
              "  </div>\n",
              "\n",
              "\n",
              "<div id=\"df-7b131eeb-09e4-4520-8308-1f1dd3610b7b\">\n",
              "  <button class=\"colab-df-quickchart\" onclick=\"quickchart('df-7b131eeb-09e4-4520-8308-1f1dd3610b7b')\"\n",
              "            title=\"Suggest charts\"\n",
              "            style=\"display:none;\">\n",
              "\n",
              "<svg xmlns=\"http://www.w3.org/2000/svg\" height=\"24px\"viewBox=\"0 0 24 24\"\n",
              "     width=\"24px\">\n",
              "    <g>\n",
              "        <path d=\"M19 3H5c-1.1 0-2 .9-2 2v14c0 1.1.9 2 2 2h14c1.1 0 2-.9 2-2V5c0-1.1-.9-2-2-2zM9 17H7v-7h2v7zm4 0h-2V7h2v10zm4 0h-2v-4h2v4z\"/>\n",
              "    </g>\n",
              "</svg>\n",
              "  </button>\n",
              "\n",
              "<style>\n",
              "  .colab-df-quickchart {\n",
              "      --bg-color: #E8F0FE;\n",
              "      --fill-color: #1967D2;\n",
              "      --hover-bg-color: #E2EBFA;\n",
              "      --hover-fill-color: #174EA6;\n",
              "      --disabled-fill-color: #AAA;\n",
              "      --disabled-bg-color: #DDD;\n",
              "  }\n",
              "\n",
              "  [theme=dark] .colab-df-quickchart {\n",
              "      --bg-color: #3B4455;\n",
              "      --fill-color: #D2E3FC;\n",
              "      --hover-bg-color: #434B5C;\n",
              "      --hover-fill-color: #FFFFFF;\n",
              "      --disabled-bg-color: #3B4455;\n",
              "      --disabled-fill-color: #666;\n",
              "  }\n",
              "\n",
              "  .colab-df-quickchart {\n",
              "    background-color: var(--bg-color);\n",
              "    border: none;\n",
              "    border-radius: 50%;\n",
              "    cursor: pointer;\n",
              "    display: none;\n",
              "    fill: var(--fill-color);\n",
              "    height: 32px;\n",
              "    padding: 0;\n",
              "    width: 32px;\n",
              "  }\n",
              "\n",
              "  .colab-df-quickchart:hover {\n",
              "    background-color: var(--hover-bg-color);\n",
              "    box-shadow: 0 1px 2px rgba(60, 64, 67, 0.3), 0 1px 3px 1px rgba(60, 64, 67, 0.15);\n",
              "    fill: var(--button-hover-fill-color);\n",
              "  }\n",
              "\n",
              "  .colab-df-quickchart-complete:disabled,\n",
              "  .colab-df-quickchart-complete:disabled:hover {\n",
              "    background-color: var(--disabled-bg-color);\n",
              "    fill: var(--disabled-fill-color);\n",
              "    box-shadow: none;\n",
              "  }\n",
              "\n",
              "  .colab-df-spinner {\n",
              "    border: 2px solid var(--fill-color);\n",
              "    border-color: transparent;\n",
              "    border-bottom-color: var(--fill-color);\n",
              "    animation:\n",
              "      spin 1s steps(1) infinite;\n",
              "  }\n",
              "\n",
              "  @keyframes spin {\n",
              "    0% {\n",
              "      border-color: transparent;\n",
              "      border-bottom-color: var(--fill-color);\n",
              "      border-left-color: var(--fill-color);\n",
              "    }\n",
              "    20% {\n",
              "      border-color: transparent;\n",
              "      border-left-color: var(--fill-color);\n",
              "      border-top-color: var(--fill-color);\n",
              "    }\n",
              "    30% {\n",
              "      border-color: transparent;\n",
              "      border-left-color: var(--fill-color);\n",
              "      border-top-color: var(--fill-color);\n",
              "      border-right-color: var(--fill-color);\n",
              "    }\n",
              "    40% {\n",
              "      border-color: transparent;\n",
              "      border-right-color: var(--fill-color);\n",
              "      border-top-color: var(--fill-color);\n",
              "    }\n",
              "    60% {\n",
              "      border-color: transparent;\n",
              "      border-right-color: var(--fill-color);\n",
              "    }\n",
              "    80% {\n",
              "      border-color: transparent;\n",
              "      border-right-color: var(--fill-color);\n",
              "      border-bottom-color: var(--fill-color);\n",
              "    }\n",
              "    90% {\n",
              "      border-color: transparent;\n",
              "      border-bottom-color: var(--fill-color);\n",
              "    }\n",
              "  }\n",
              "</style>\n",
              "\n",
              "  <script>\n",
              "    async function quickchart(key) {\n",
              "      const quickchartButtonEl =\n",
              "        document.querySelector('#' + key + ' button');\n",
              "      quickchartButtonEl.disabled = true;  // To prevent multiple clicks.\n",
              "      quickchartButtonEl.classList.add('colab-df-spinner');\n",
              "      try {\n",
              "        const charts = await google.colab.kernel.invokeFunction(\n",
              "            'suggestCharts', [key], {});\n",
              "      } catch (error) {\n",
              "        console.error('Error during call to suggestCharts:', error);\n",
              "      }\n",
              "      quickchartButtonEl.classList.remove('colab-df-spinner');\n",
              "      quickchartButtonEl.classList.add('colab-df-quickchart-complete');\n",
              "    }\n",
              "    (() => {\n",
              "      let quickchartButtonEl =\n",
              "        document.querySelector('#df-7b131eeb-09e4-4520-8308-1f1dd3610b7b button');\n",
              "      quickchartButtonEl.style.display =\n",
              "        google.colab.kernel.accessAllowed ? 'block' : 'none';\n",
              "    })();\n",
              "  </script>\n",
              "</div>\n",
              "\n",
              "    </div>\n",
              "  </div>\n"
            ],
            "application/vnd.google.colaboratory.intrinsic+json": {
              "type": "dataframe",
              "variable_name": "df",
              "summary": "{\n  \"name\": \"df\",\n  \"rows\": 32,\n  \"fields\": [\n    {\n      \"column\": \"Data\",\n      \"properties\": {\n        \"dtype\": \"date\",\n        \"min\": \"2022-03-01 00:00:00\",\n        \"max\": \"2024-10-01 00:00:00\",\n        \"num_unique_values\": 32,\n        \"samples\": [\n          \"2024-08-01 00:00:00\",\n          \"2023-06-01 00:00:00\",\n          \"2024-03-01 00:00:00\"\n        ],\n        \"semantic_type\": \"\",\n        \"description\": \"\"\n      }\n    },\n    {\n      \"column\": \"Quantidade_log\",\n      \"properties\": {\n        \"dtype\": \"number\",\n        \"std\": 1.4669808105253777,\n        \"min\": 1.6094379124341003,\n        \"max\": 9.166179476190413,\n        \"num_unique_values\": 32,\n        \"samples\": [\n          7.738052297689316,\n          7.772752716468742,\n          7.612336837167746\n        ],\n        \"semantic_type\": \"\",\n        \"description\": \"\"\n      }\n    }\n  ]\n}"
            }
          },
          "metadata": {},
          "execution_count": 78
        }
      ]
    },
    {
      "cell_type": "markdown",
      "source": [
        "Atribuição da coluna \"Quantidade_log\" à variável y."
      ],
      "metadata": {
        "id": "-NBtDyTufwBd"
      }
    },
    {
      "cell_type": "code",
      "source": [
        "y = df['Quantidade_log']"
      ],
      "metadata": {
        "id": "XKwV08kQrvaV"
      },
      "execution_count": 79,
      "outputs": []
    },
    {
      "cell_type": "markdown",
      "source": [
        "Aplicação da técnica MinMaxScaler para normalização dos dados, colocando-os em um intervalo entre 0 e 1 e atribuindo-os à variável y_scaled."
      ],
      "metadata": {
        "id": "jgD0l1Dxf2NQ"
      }
    },
    {
      "cell_type": "code",
      "source": [
        "scaler = MinMaxScaler(feature_range=(0, 1))\n",
        "y_scaled = scaler.fit_transform(y.values.reshape(-1, 1))"
      ],
      "metadata": {
        "id": "YuZRcBmrr05P"
      },
      "execution_count": 80,
      "outputs": []
    },
    {
      "cell_type": "markdown",
      "source": [
        "Divisão dos dados entre treino e teste em uma proporção aproximada de, respectivamente, 80% e 20%."
      ],
      "metadata": {
        "id": "l1H96p2lgPbj"
      }
    },
    {
      "cell_type": "code",
      "source": [
        "train_end_date = pd.to_datetime('2024-05-01') -  pd.Timedelta(days=1)\n",
        "y_train = y[:train_end_date]\n",
        "y_test = y[train_end_date:]"
      ],
      "metadata": {
        "id": "iUIDIM1gVp00"
      },
      "execution_count": 81,
      "outputs": []
    },
    {
      "cell_type": "markdown",
      "source": [
        "Criação de uma função que reverte a transformação logarítmica através da exponenciação e calcula o erro quadrático médio com os dados na escala original."
      ],
      "metadata": {
        "id": "gGa5SZ0EgrEx"
      }
    },
    {
      "cell_type": "code",
      "source": [
        "def calculate_mse_original_scale(forecast, y_test):\n",
        "    forecast_original = np.exp(forecast)\n",
        "    y_test_original = np.exp(y_test)\n",
        "    mse = mean_squared_error(y_test_original, forecast_original)\n",
        "    return mse"
      ],
      "metadata": {
        "id": "ro_-SEEsVtiQ"
      },
      "execution_count": 82,
      "outputs": []
    },
    {
      "cell_type": "markdown",
      "source": [
        "Criação de dois dicionários vazios, results e forecasts, que serão utilizados para armazenar, respectiva, o erro quadrático médio e os valores previstos."
      ],
      "metadata": {
        "id": "cZNdbKoqg3_G"
      }
    },
    {
      "cell_type": "code",
      "source": [
        "results = {}\n",
        "forecasts = {}"
      ],
      "metadata": {
        "id": "OYUKHX60VvGt"
      },
      "execution_count": 83,
      "outputs": []
    },
    {
      "cell_type": "markdown",
      "source": [
        "Função para elevação ao quadrado e reversão da transformação logarítmica."
      ],
      "metadata": {
        "id": "JofMbfti0Yl8"
      }
    },
    {
      "cell_type": "code",
      "source": [
        "def reverse_transformation(data):\n",
        "    return np.exp(data)"
      ],
      "metadata": {
        "id": "HRQvKBi1cyTg"
      },
      "execution_count": 84,
      "outputs": []
    },
    {
      "cell_type": "markdown",
      "source": [
        "Criação de uma função que aplica o algoritmo de previsão auto arima. Este modelo faz a seleção automática dos valores p (autoregressiva), d (diferenciação) e q (média móvel). Os dados não apresentam sazonalidade, mas possui tendência e ambas características foram consideradas nos parâmetros utilizados. Os valores da previsão são atribuídos ao dicionário forecasts e o erro quadrático médio é atribuído ao dicionário results.\n",
        "\n",
        "\n"
      ],
      "metadata": {
        "id": "DHajbqmlhB6K"
      }
    },
    {
      "cell_type": "code",
      "source": [
        "def arima_model(y_train, y_test):\n",
        "\n",
        "    model = auto_arima(\n",
        "        y_train,\n",
        "        seasonal=False,\n",
        "        stepwise=True,\n",
        "        trace=True\n",
        "    )\n",
        "\n",
        "\n",
        "    model_fit = model.fit(y_train)\n",
        "\n",
        "\n",
        "    forecast = model_fit.predict(n_periods=len(y_test))\n",
        "\n",
        "\n",
        "    mse = calculate_mse_original_scale(forecast, y_test)\n",
        "\n",
        "    return forecast, mse\n",
        "\n",
        "\n",
        "forecast, mse = arima_model(y_train, y_test)\n",
        "results['ARIMA'] = mse\n",
        "forecasts['ARIMA'] = forecast"
      ],
      "metadata": {
        "colab": {
          "base_uri": "https://localhost:8080/"
        },
        "id": "X37v3ZaDV1Vh",
        "outputId": "da3dad1b-934c-4405-da04-77a9ef337510"
      },
      "execution_count": 85,
      "outputs": [
        {
          "output_type": "stream",
          "name": "stdout",
          "text": [
            "Performing stepwise search to minimize aic\n",
            " ARIMA(2,0,2)(0,0,0)[0]             : AIC=75.670, Time=0.97 sec\n",
            " ARIMA(0,0,0)(0,0,0)[0]             : AIC=182.703, Time=0.02 sec\n",
            " ARIMA(1,0,0)(0,0,0)[0]             : AIC=79.402, Time=0.05 sec\n",
            " ARIMA(0,0,1)(0,0,0)[0]             : AIC=inf, Time=0.07 sec\n",
            " ARIMA(1,0,2)(0,0,0)[0]             : AIC=73.143, Time=0.39 sec\n",
            " ARIMA(0,0,2)(0,0,0)[0]             : AIC=inf, Time=0.60 sec\n",
            " ARIMA(1,0,1)(0,0,0)[0]             : AIC=76.000, Time=0.48 sec\n",
            " ARIMA(1,0,3)(0,0,0)[0]             : AIC=75.143, Time=2.06 sec\n",
            " ARIMA(0,0,3)(0,0,0)[0]             : AIC=inf, Time=3.46 sec\n",
            " ARIMA(2,0,1)(0,0,0)[0]             : AIC=74.831, Time=1.03 sec\n",
            " ARIMA(2,0,3)(0,0,0)[0]             : AIC=76.442, Time=1.03 sec\n",
            " ARIMA(1,0,2)(0,0,0)[0] intercept   : AIC=72.346, Time=0.48 sec\n",
            " ARIMA(0,0,2)(0,0,0)[0] intercept   : AIC=inf, Time=0.54 sec\n",
            " ARIMA(1,0,1)(0,0,0)[0] intercept   : AIC=75.226, Time=0.52 sec\n",
            " ARIMA(2,0,2)(0,0,0)[0] intercept   : AIC=73.508, Time=2.04 sec\n",
            " ARIMA(1,0,3)(0,0,0)[0] intercept   : AIC=73.895, Time=1.53 sec\n",
            " ARIMA(0,0,1)(0,0,0)[0] intercept   : AIC=inf, Time=0.65 sec\n",
            " ARIMA(0,0,3)(0,0,0)[0] intercept   : AIC=inf, Time=0.49 sec\n",
            " ARIMA(2,0,1)(0,0,0)[0] intercept   : AIC=72.410, Time=0.91 sec\n",
            " ARIMA(2,0,3)(0,0,0)[0] intercept   : AIC=73.484, Time=3.09 sec\n",
            "\n",
            "Best model:  ARIMA(1,0,2)(0,0,0)[0] intercept\n",
            "Total fit time: 20.520 seconds\n"
          ]
        }
      ]
    },
    {
      "cell_type": "markdown",
      "source": [
        "Criação de uma função que aplica o algoritmo de suavização exponencial, que atribui pesos maiores aos dados mais recentes. Os valores da previsão são atribuídos ao dicionário forecasts e o erro quadrático médio é atribuído ao dicionário results.\n"
      ],
      "metadata": {
        "id": "h7G3OJ6fhqJd"
      }
    },
    {
      "cell_type": "code",
      "source": [
        "def exp_smoothing(y_train, y_test):\n",
        "    model = ExponentialSmoothing(y_train, seasonal=None, trend='add')\n",
        "    model_fit = model.fit()\n",
        "    forecast = model_fit.forecast(steps=len(y_test))\n",
        "    mse = calculate_mse_original_scale(forecast, y_test)\n",
        "    return forecast, mse\n",
        "\n",
        "forecast, mse = exp_smoothing(y_train, y_test)\n",
        "results['Exponential Smoothing'] = mse\n",
        "forecasts['Exponential Smoothing'] = forecast"
      ],
      "metadata": {
        "id": "TG5sTL_lWLcs"
      },
      "execution_count": 86,
      "outputs": []
    },
    {
      "cell_type": "markdown",
      "source": [
        "Definição de uma função que realiza a previsão através do algoritmo XGBoost, utilizando-se do GridSearchCV para a definição dos melhores parâmetros. O XGBoost é baseado em árvores de decisão e utiliza o princípio de boosting para melhorar a precisão das previsões. Os resultados da projeção são atribuídos ao dicionário forecasts e o erro quadrático médio é atribuído ao dicionário results.\n",
        "\n",
        "---\n",
        "\n"
      ],
      "metadata": {
        "id": "M3JdxSYbh_l_"
      }
    },
    {
      "cell_type": "code",
      "source": [
        "def xgboost_model(y_train, y_test):\n",
        "    param_grid = {'n_estimators': [50, 100, 200], 'max_depth': [3, 5, 7]}\n",
        "    grid_search = GridSearchCV(XGBRegressor(objective='reg:squarederror', random_state=42), param_grid, cv=5, scoring='neg_mean_squared_error')\n",
        "    grid_search.fit(np.arange(len(y_train)).reshape(-1, 1), y_train)\n",
        "    print(\"Melhores hiperparâmetros para o XGBoost:\", grid_search.best_params_)\n",
        "    forecast = grid_search.predict(np.arange(len(y_train), len(y_train) + len(y_test)).reshape(-1, 1))\n",
        "    mse = calculate_mse_original_scale(forecast, y_test)\n",
        "    return forecast, mse\n",
        "\n",
        "forecast, mse = xgboost_model(y_train, y_test)\n",
        "results['XGBoost'] = mse\n",
        "forecasts['XGBoost'] = forecast"
      ],
      "metadata": {
        "colab": {
          "base_uri": "https://localhost:8080/"
        },
        "id": "XO_EkS5kWR6b",
        "outputId": "103af2d5-d6d0-4c6e-8474-94d6e7272731"
      },
      "execution_count": 87,
      "outputs": [
        {
          "output_type": "stream",
          "name": "stdout",
          "text": [
            "Melhores hiperparâmetros para o XGBoost: {'max_depth': 3, 'n_estimators': 50}\n"
          ]
        }
      ]
    },
    {
      "cell_type": "markdown",
      "source": [
        "Definição de uma função que realiza a previsão através do algoritmo LightGBM, baseado em boosting por gradiente. Utilizou-se do GridSearchCV para a definição dos melhores parâmetros. Os resultados da projeção são atribuídos ao dicionário forecasts e o erro quadrático médio é atribuído ao dicionário results.\n"
      ],
      "metadata": {
        "id": "tsHdmOIVn4JM"
      }
    },
    {
      "cell_type": "code",
      "source": [
        "def lightgbm_model(y_train, y_test):\n",
        "    param_grid = {'n_estimators': [50, 100, 200], 'num_leaves': [20, 31, 50]}\n",
        "    grid_search = GridSearchCV(LGBMRegressor(verbose=-1), param_grid, cv=5, scoring='neg_mean_squared_error')\n",
        "    grid_search.fit(np.arange(len(y_train)).reshape(-1, 1), y_train)\n",
        "    print(\"Melhores hiperparâmetros para o LightGBM:\", grid_search.best_params_)\n",
        "    forecast = grid_search.predict(np.arange(len(y_train), len(y_train) + len(y_test)).reshape(-1, 1))\n",
        "    mse = calculate_mse_original_scale(forecast, y_test)\n",
        "    return forecast, mse\n",
        "\n",
        "forecast, mse = lightgbm_model(y_train, y_test)\n",
        "results['LightGBM'] = mse\n",
        "forecasts['LightGBM'] = forecast"
      ],
      "metadata": {
        "colab": {
          "base_uri": "https://localhost:8080/"
        },
        "id": "v1OIYruvWV7O",
        "outputId": "9220d0e7-922d-4d46-b8ab-0a448bf910e9"
      },
      "execution_count": 88,
      "outputs": [
        {
          "output_type": "stream",
          "name": "stdout",
          "text": [
            "Melhores hiperparâmetros para o LightGBM: {'n_estimators': 50, 'num_leaves': 20}\n"
          ]
        }
      ]
    },
    {
      "cell_type": "markdown",
      "source": [
        "Definição de uma função que realiza a previsão através do algoritmo Random Forest Regressor, baseado em ensemble learning e na utilização de uma coleção de árvores de decisão para realizar a regresão. É utilizado o GridSearchCV para a definição dos melhores parâmetros. Os resultados da projeção são atribuídos ao dicionário forecasts e o erro quadrático médio é atribuído ao dicionário results.\n"
      ],
      "metadata": {
        "id": "c6bESMiVoZNB"
      }
    },
    {
      "cell_type": "code",
      "source": [
        "def random_forest_model(y_train, y_test):\n",
        "    param_grid = {'n_estimators': [50, 100, 200], 'max_depth': [5, 10, 15]}\n",
        "    grid_search = GridSearchCV(RandomForestRegressor(), param_grid, cv=5, scoring='neg_mean_squared_error')\n",
        "    grid_search.fit(np.arange(len(y_train)).reshape(-1, 1), y_train)\n",
        "    print(\"Melhores hiperparâmetros para o Random Forest:\", grid_search.best_params_)\n",
        "    forecast = grid_search.predict(np.arange(len(y_train), len(y_train) + len(y_test)).reshape(-1, 1))\n",
        "    mse = calculate_mse_original_scale(forecast, y_test)\n",
        "    return forecast, mse\n",
        "\n",
        "forecast, mse = random_forest_model(y_train, y_test)\n",
        "results['Random Forest'] = mse\n",
        "forecasts['Random Forest'] = forecast"
      ],
      "metadata": {
        "colab": {
          "base_uri": "https://localhost:8080/"
        },
        "id": "5_AX9dijWaao",
        "outputId": "3346cc61-19d8-4e98-eb1f-8a3653cf7546"
      },
      "execution_count": 89,
      "outputs": [
        {
          "output_type": "stream",
          "name": "stdout",
          "text": [
            "Melhores hiperparâmetros para o Random Forest: {'max_depth': 10, 'n_estimators': 100}\n"
          ]
        }
      ]
    },
    {
      "cell_type": "markdown",
      "source": [
        "Definição de uma função que realiza a previsão através do algoritmo Linear Regression, que busca modelar a relação entre uma variável dependente (alvo) e uma ou mais variáveis independentes (features). O algoritmo busca ajustar uma linha que minimize o erro entre as previsões e os valores reais. É utilizado o GridSearchCV para a definição dos melhores parâmetros. Os resultados da projeção são atribuídos ao dicionário forecasts e o erro quadrático médio é atribuído ao dicionário results."
      ],
      "metadata": {
        "id": "cRAgHJ2dpUNH"
      }
    },
    {
      "cell_type": "code",
      "source": [
        "def linear_regression_model(y_train, y_test):\n",
        "\n",
        "    scaler = StandardScaler()\n",
        "    y_train_scaled = scaler.fit_transform(y_train.values.reshape(-1, 1))\n",
        "    y_test_scaled = scaler.transform(y_test.values.reshape(-1, 1))\n",
        "\n",
        "    param_grid = {'fit_intercept': [True, False]}\n",
        "    grid_search = GridSearchCV(LinearRegression(), param_grid, cv=5, scoring='neg_mean_squared_error')\n",
        "    grid_search.fit(np.arange(len(y_train)).reshape(-1, 1), y_train_scaled)\n",
        "    print(\"Melhores hiperparâmetros para a Regressão Linear:\", grid_search.best_params_)\n",
        "\n",
        "\n",
        "    forecast_scaled = grid_search.predict(np.arange(len(y_train), len(y_train) + len(y_test)).reshape(-1, 1))\n",
        "\n",
        "\n",
        "    forecast = scaler.inverse_transform(forecast_scaled.reshape(-1, 1)).flatten()\n",
        "\n",
        "    mse = calculate_mse_original_scale(forecast, y_test)\n",
        "    return forecast, mse\n",
        "\n",
        "forecast, mse = linear_regression_model(y_train, y_test)\n",
        "results['Linear Regression'] = mse\n",
        "forecasts['Linear Regression'] = forecast"
      ],
      "metadata": {
        "colab": {
          "base_uri": "https://localhost:8080/"
        },
        "id": "9UthFKEMWd7S",
        "outputId": "cd273ebd-3ad8-4c45-8e15-73ac92bd0dcd"
      },
      "execution_count": 90,
      "outputs": [
        {
          "output_type": "stream",
          "name": "stdout",
          "text": [
            "Melhores hiperparâmetros para a Regressão Linear: {'fit_intercept': False}\n"
          ]
        }
      ]
    },
    {
      "cell_type": "markdown",
      "source": [
        "Definição de uma função que realiza a previsão através do algoritmo Support Vector Regression (SVR), que busca ajustar uma função de regressão para minimizar o erro. É utilizado o GridSearchCV para a definição dos melhores parâmetros. Os resultados da projeção são atribuídos ao dicionário forecasts e o erro quadrático médio é atribuído ao dicionário results."
      ],
      "metadata": {
        "id": "1WBg2gfDpv_a"
      }
    },
    {
      "cell_type": "code",
      "source": [
        "def svm_model(y_train, y_test):\n",
        "    param_grid = {'C': [0.1, 1, 10], 'gamma': ['scale', 'auto']}\n",
        "    grid_search = GridSearchCV(SVR(), param_grid, cv=5, scoring='neg_mean_squared_error')\n",
        "    grid_search.fit(np.arange(len(y_train)).reshape(-1, 1), y_train)\n",
        "    print(\"Melhores hiperparâmetros para o SVR:\", grid_search.best_params_)\n",
        "    forecast = grid_search.predict(np.arange(len(y_train), len(y_train) + len(y_test)).reshape(-1, 1))\n",
        "    mse = calculate_mse_original_scale(forecast, y_test)\n",
        "    return forecast, mse\n",
        "\n",
        "forecast, mse = svm_model(y_train, y_test)\n",
        "results['Support Vector Regression'] = mse\n",
        "forecasts['Support Vector Regression'] = forecast"
      ],
      "metadata": {
        "colab": {
          "base_uri": "https://localhost:8080/"
        },
        "id": "UYGX5WCqWiJm",
        "outputId": "80a80ab1-b6ab-443f-9627-01ea149c7628"
      },
      "execution_count": 91,
      "outputs": [
        {
          "output_type": "stream",
          "name": "stdout",
          "text": [
            "Melhores hiperparâmetros para o SVR: {'C': 0.1, 'gamma': 'auto'}\n"
          ]
        }
      ]
    },
    {
      "cell_type": "markdown",
      "source": [
        "Definição de uma função que realiza a previsão através do algoritmo Long Short-Term Memory (LSTM), uma rede neural recorrente (RNN) projetada para lidar com o problema do desvanecimento do gradiente, que ocorre quando redes neurais tentam aprender dependências de longo prazo em dados sequencias. Os resultados da projeção são atribuídos ao dicionário forecasts e o erro quadrático médio é atribuído ao dicionário results."
      ],
      "metadata": {
        "id": "cPE00GFzqu_H"
      }
    },
    {
      "cell_type": "code",
      "source": [
        "def lstm_model(y_train, y_test):\n",
        "\n",
        "    y_scaled_train = scaler.fit_transform(y_train.values.reshape(-1, 1))\n",
        "\n",
        "\n",
        "    X_train = []\n",
        "    y_lstm_train = []\n",
        "    for i in range(1, len(y_scaled_train)):\n",
        "        X_train.append(y_scaled_train[i-1:i, 0])\n",
        "        y_lstm_train.append(y_scaled_train[i, 0])\n",
        "\n",
        "    X_train = np.array(X_train).reshape(-1, 1, 1)\n",
        "    y_lstm_train = np.array(y_lstm_train)\n",
        "\n",
        "\n",
        "    model = Sequential([\n",
        "        LSTM(50, activation='relu', input_shape=(X_train.shape[1], 1)),\n",
        "        Dense(1)\n",
        "    ])\n",
        "    model.compile(optimizer=Adam(learning_rate=0.01), loss='mean_squared_error')\n",
        "    model.fit(X_train, y_lstm_train, epochs=100, verbose=0)\n",
        "\n",
        "    predictions = []\n",
        "    X_test = y_scaled_train[-1].reshape(1, 1, 1)\n",
        "    for _ in range(len(y_test)):\n",
        "        pred = model.predict(X_test)\n",
        "        predictions.append(pred[0, 0])\n",
        "        X_test = np.array([[pred[0, 0]]]).reshape(1, 1, 1)\n",
        "\n",
        "\n",
        "    predictions = scaler.inverse_transform(np.array(predictions).reshape(-1, 1)).flatten()\n",
        "    mse = calculate_mse_original_scale(forecast, y_test)\n",
        "    return predictions, mse\n",
        "\n",
        "forecast, mse = lstm_model(y_train, y_test)\n",
        "results['LSTM'] = mse\n",
        "forecasts['LSTM'] = forecast"
      ],
      "metadata": {
        "colab": {
          "base_uri": "https://localhost:8080/"
        },
        "id": "rgeifkKhWlIB",
        "outputId": "feff0da4-f3d1-4654-968f-1eadd148891d"
      },
      "execution_count": 92,
      "outputs": [
        {
          "output_type": "stream",
          "name": "stdout",
          "text": [
            "\u001b[1m1/1\u001b[0m \u001b[32m━━━━━━━━━━━━━━━━━━━━\u001b[0m\u001b[37m\u001b[0m \u001b[1m0s\u001b[0m 160ms/step\n",
            "\u001b[1m1/1\u001b[0m \u001b[32m━━━━━━━━━━━━━━━━━━━━\u001b[0m\u001b[37m\u001b[0m \u001b[1m0s\u001b[0m 24ms/step\n",
            "\u001b[1m1/1\u001b[0m \u001b[32m━━━━━━━━━━━━━━━━━━━━\u001b[0m\u001b[37m\u001b[0m \u001b[1m0s\u001b[0m 20ms/step\n",
            "\u001b[1m1/1\u001b[0m \u001b[32m━━━━━━━━━━━━━━━━━━━━\u001b[0m\u001b[37m\u001b[0m \u001b[1m0s\u001b[0m 20ms/step\n",
            "\u001b[1m1/1\u001b[0m \u001b[32m━━━━━━━━━━━━━━━━━━━━\u001b[0m\u001b[37m\u001b[0m \u001b[1m0s\u001b[0m 22ms/step\n",
            "\u001b[1m1/1\u001b[0m \u001b[32m━━━━━━━━━━━━━━━━━━━━\u001b[0m\u001b[37m\u001b[0m \u001b[1m0s\u001b[0m 26ms/step\n"
          ]
        }
      ]
    },
    {
      "cell_type": "markdown",
      "source": [
        "Criação de uma função que realiza a projeção através de um método ensemble. O ensemble utiliza a média dos valores dos demais modelos para realizar a previsão."
      ],
      "metadata": {
        "id": "ZGLJPeakrZpm"
      }
    },
    {
      "cell_type": "code",
      "source": [
        "def ensemble_model(*forecasts):\n",
        "    ensemble_forecast = np.mean(np.column_stack(forecasts), axis=1)\n",
        "    mse = calculate_mse_original_scale(ensemble_forecast, y_test)\n",
        "    return ensemble_forecast, mse\n"
      ],
      "metadata": {
        "id": "z8GqOXTMWqNG"
      },
      "execution_count": 93,
      "outputs": []
    },
    {
      "cell_type": "markdown",
      "source": [
        "Aplicação das funções de projeção criadas anteriormente com base nos valores de treino e teste."
      ],
      "metadata": {
        "id": "L_ERxmuRsTQE"
      }
    },
    {
      "cell_type": "code",
      "source": [
        "arima_forecast, _ = arima_model(y_train, y_test)\n",
        "exp_forecast, _ = exp_smoothing(y_train, y_test)\n",
        "xgb_forecast, _ = xgboost_model(y_train, y_test)\n",
        "lgbm_forecast, _ = lightgbm_model(y_train, y_test)\n",
        "rf_forecast, _ = random_forest_model(y_train, y_test)\n",
        "svm_forecast, _ = svm_model(y_train, y_test)\n",
        "linear_forecast, _ = linear_regression_model(y_train, y_test)\n",
        "lstm_forecast, _ = lstm_model(y_train, y_test)"
      ],
      "metadata": {
        "colab": {
          "base_uri": "https://localhost:8080/"
        },
        "id": "CR8AllevWtoV",
        "outputId": "198b2a36-b301-41da-bf4f-299a76f06237"
      },
      "execution_count": 94,
      "outputs": [
        {
          "output_type": "stream",
          "name": "stdout",
          "text": [
            "Performing stepwise search to minimize aic\n",
            " ARIMA(2,0,2)(0,0,0)[0]             : AIC=75.670, Time=0.25 sec\n",
            " ARIMA(0,0,0)(0,0,0)[0]             : AIC=182.703, Time=0.01 sec\n",
            " ARIMA(1,0,0)(0,0,0)[0]             : AIC=79.402, Time=0.04 sec\n",
            " ARIMA(0,0,1)(0,0,0)[0]             : AIC=inf, Time=0.10 sec\n",
            " ARIMA(1,0,2)(0,0,0)[0]             : AIC=73.143, Time=0.10 sec\n",
            " ARIMA(0,0,2)(0,0,0)[0]             : AIC=inf, Time=0.12 sec\n",
            " ARIMA(1,0,1)(0,0,0)[0]             : AIC=76.000, Time=0.10 sec\n",
            " ARIMA(1,0,3)(0,0,0)[0]             : AIC=75.143, Time=0.13 sec\n",
            " ARIMA(0,0,3)(0,0,0)[0]             : AIC=inf, Time=0.24 sec\n",
            " ARIMA(2,0,1)(0,0,0)[0]             : AIC=74.831, Time=0.11 sec\n",
            " ARIMA(2,0,3)(0,0,0)[0]             : AIC=76.442, Time=0.26 sec\n",
            " ARIMA(1,0,2)(0,0,0)[0] intercept   : AIC=72.346, Time=0.12 sec\n",
            " ARIMA(0,0,2)(0,0,0)[0] intercept   : AIC=inf, Time=0.15 sec\n",
            " ARIMA(1,0,1)(0,0,0)[0] intercept   : AIC=75.226, Time=0.08 sec\n",
            " ARIMA(2,0,2)(0,0,0)[0] intercept   : AIC=73.508, Time=0.23 sec\n",
            " ARIMA(1,0,3)(0,0,0)[0] intercept   : AIC=73.895, Time=0.24 sec\n",
            " ARIMA(0,0,1)(0,0,0)[0] intercept   : AIC=inf, Time=0.11 sec\n",
            " ARIMA(0,0,3)(0,0,0)[0] intercept   : AIC=inf, Time=0.18 sec\n",
            " ARIMA(2,0,1)(0,0,0)[0] intercept   : AIC=72.410, Time=0.14 sec\n",
            " ARIMA(2,0,3)(0,0,0)[0] intercept   : AIC=73.484, Time=0.34 sec\n",
            "\n",
            "Best model:  ARIMA(1,0,2)(0,0,0)[0] intercept\n",
            "Total fit time: 3.097 seconds\n",
            "Melhores hiperparâmetros para o XGBoost: {'max_depth': 3, 'n_estimators': 50}\n",
            "Melhores hiperparâmetros para o LightGBM: {'n_estimators': 50, 'num_leaves': 20}\n",
            "Melhores hiperparâmetros para o Random Forest: {'max_depth': 5, 'n_estimators': 50}\n",
            "Melhores hiperparâmetros para o SVR: {'C': 0.1, 'gamma': 'auto'}\n",
            "Melhores hiperparâmetros para a Regressão Linear: {'fit_intercept': False}\n",
            "\u001b[1m1/1\u001b[0m \u001b[32m━━━━━━━━━━━━━━━━━━━━\u001b[0m\u001b[37m\u001b[0m \u001b[1m0s\u001b[0m 162ms/step\n",
            "\u001b[1m1/1\u001b[0m \u001b[32m━━━━━━━━━━━━━━━━━━━━\u001b[0m\u001b[37m\u001b[0m \u001b[1m0s\u001b[0m 20ms/step\n",
            "\u001b[1m1/1\u001b[0m \u001b[32m━━━━━━━━━━━━━━━━━━━━\u001b[0m\u001b[37m\u001b[0m \u001b[1m0s\u001b[0m 19ms/step\n",
            "\u001b[1m1/1\u001b[0m \u001b[32m━━━━━━━━━━━━━━━━━━━━\u001b[0m\u001b[37m\u001b[0m \u001b[1m0s\u001b[0m 22ms/step\n",
            "\u001b[1m1/1\u001b[0m \u001b[32m━━━━━━━━━━━━━━━━━━━━\u001b[0m\u001b[37m\u001b[0m \u001b[1m0s\u001b[0m 20ms/step\n",
            "\u001b[1m1/1\u001b[0m \u001b[32m━━━━━━━━━━━━━━━━━━━━\u001b[0m\u001b[37m\u001b[0m \u001b[1m0s\u001b[0m 23ms/step\n"
          ]
        }
      ]
    },
    {
      "cell_type": "markdown",
      "source": [
        "Aplicação do algoritmo ensemble, atribuindo os valores da previsão ao dicionário forecasts e o erro quadrático médio ao dicionário results. O erro quadrático médio de cada modelo é demonstrado através de uma iteração no dicionário results."
      ],
      "metadata": {
        "id": "zztdizdmsfoB"
      }
    },
    {
      "cell_type": "code",
      "source": [
        "ensemble_forecast, mse = ensemble_model(\n",
        "    arima_forecast, exp_forecast, xgb_forecast, lgbm_forecast,\n",
        "    rf_forecast, svm_forecast, linear_forecast, lstm_forecast\n",
        ")\n",
        "\n",
        "results['Ensemble'] = mse\n",
        "forecasts['Ensemble'] = ensemble_forecast\n",
        "for model_name, error in results.items():\n",
        "    print(f\"{model_name}: MSE = {error:.4f}\")"
      ],
      "metadata": {
        "id": "wjDZpGbfWvl-",
        "colab": {
          "base_uri": "https://localhost:8080/"
        },
        "outputId": "ee3ae44d-73ed-4634-bebf-18c826fe7ec0"
      },
      "execution_count": 95,
      "outputs": [
        {
          "output_type": "stream",
          "name": "stdout",
          "text": [
            "ARIMA: MSE = 1298802.8687\n",
            "Exponential Smoothing: MSE = 83106.3309\n",
            "XGBoost: MSE = 60799.8851\n",
            "LightGBM: MSE = 37651.1229\n",
            "Random Forest: MSE = 57580.4109\n",
            "Linear Regression: MSE = 1310055.5064\n",
            "Support Vector Regression: MSE = 182422.0901\n",
            "LSTM: MSE = 182422.0901\n",
            "Ensemble: MSE = 24949.0918\n"
          ]
        }
      ]
    },
    {
      "cell_type": "markdown",
      "source": [
        "O dicionário contendo o erro quadrático médio é transformado em um dataframe e os valores são demonstrados em ordem crescente. Os melhores modelos, conforme erro quadrático médio, são o Ensemble, LightGBM, XGBoost, Random Forest Regressor e Exponential Smoothing, com erros mais significativos a partir do Support Vector Regression."
      ],
      "metadata": {
        "id": "edYOhgjBs6a6"
      }
    },
    {
      "cell_type": "code",
      "source": [
        "pd.options.display.float_format = '{:.4f}'.format\n",
        "\n",
        "df_results_mse = pd.DataFrame(list(results.items()), columns=['Model', 'MSE'])\n",
        "df_results_mse_sorted = df_results_mse.sort_values(by='MSE', ascending=True)\n",
        "print(df_results_mse_sorted)"
      ],
      "metadata": {
        "id": "xyYF65SJW7BO",
        "colab": {
          "base_uri": "https://localhost:8080/"
        },
        "outputId": "1a7e4041-8ab3-4687-8391-e6db84417027"
      },
      "execution_count": 96,
      "outputs": [
        {
          "output_type": "stream",
          "name": "stdout",
          "text": [
            "                       Model          MSE\n",
            "8                   Ensemble   24949.0918\n",
            "3                   LightGBM   37651.1229\n",
            "4              Random Forest   57580.4109\n",
            "2                    XGBoost   60799.8851\n",
            "1      Exponential Smoothing   83106.3309\n",
            "6  Support Vector Regression  182422.0901\n",
            "7                       LSTM  182422.0901\n",
            "0                      ARIMA 1298802.8687\n",
            "5          Linear Regression 1310055.5064\n"
          ]
        }
      ]
    },
    {
      "cell_type": "markdown",
      "source": [
        "As previsões contidas no dicionário forecasts são transformadas em um dataframe e os valores são elevados ao quadrado para reverter a transformação logarítmica."
      ],
      "metadata": {
        "id": "xuCFO_MstxcX"
      }
    },
    {
      "cell_type": "code",
      "source": [
        "forecasts = pd.DataFrame(forecasts)\n",
        "forecasts = forecasts.apply(np.exp)\n",
        "forecasts"
      ],
      "metadata": {
        "id": "1QmHhLT5XCg6",
        "colab": {
          "base_uri": "https://localhost:8080/",
          "height": 237
        },
        "outputId": "9b3555f6-eb8f-4353-edb5-3e2915aefaeb"
      },
      "execution_count": 97,
      "outputs": [
        {
          "output_type": "execute_result",
          "data": {
            "text/plain": [
              "               ARIMA  Exponential Smoothing   XGBoost  LightGBM  \\\n",
              "2024-05-01 1532.0561              2134.7818 2023.8032 2100.3161   \n",
              "2024-06-01 1206.6883              2231.5677 2023.8032 2100.3161   \n",
              "2024-07-01 1091.9975              2332.7417 2023.8032 2100.3161   \n",
              "2024-08-01 1008.9024              2438.5026 2023.8032 2100.3161   \n",
              "2024-09-01  947.5667              2549.0585 2023.8032 2100.3161   \n",
              "2024-10-01  901.6193              2664.6267 2023.8032 2100.3161   \n",
              "\n",
              "            Random Forest  Linear Regression  Support Vector Regression  \\\n",
              "2024-05-01      2032.4959          3209.9079                  2532.6957   \n",
              "2024-06-01      2032.4959          3262.7027                  2627.0019   \n",
              "2024-07-01      2032.4959          3316.3657                  2631.8137   \n",
              "2024-08-01      2032.4959          3370.9114                  2631.8462   \n",
              "2024-09-01      2032.4959          3426.3542                  2631.8462   \n",
              "2024-10-01      2032.4959          3482.7089                  2631.8462   \n",
              "\n",
              "                LSTM  Ensemble  \n",
              "2024-05-01 2539.0874 2222.7174  \n",
              "2024-06-01 2858.5977 2219.3915  \n",
              "2024-07-01 3045.6191 2227.2883  \n",
              "2024-08-01 3150.8650 2231.4811  \n",
              "2024-09-01 3208.8550 2235.6810  \n",
              "2024-10-01 3240.4500 2241.1895  "
            ],
            "text/html": [
              "\n",
              "  <div id=\"df-c4c20f0f-09f0-41a9-96f5-e50cbb25b375\" class=\"colab-df-container\">\n",
              "    <div>\n",
              "<style scoped>\n",
              "    .dataframe tbody tr th:only-of-type {\n",
              "        vertical-align: middle;\n",
              "    }\n",
              "\n",
              "    .dataframe tbody tr th {\n",
              "        vertical-align: top;\n",
              "    }\n",
              "\n",
              "    .dataframe thead th {\n",
              "        text-align: right;\n",
              "    }\n",
              "</style>\n",
              "<table border=\"1\" class=\"dataframe\">\n",
              "  <thead>\n",
              "    <tr style=\"text-align: right;\">\n",
              "      <th></th>\n",
              "      <th>ARIMA</th>\n",
              "      <th>Exponential Smoothing</th>\n",
              "      <th>XGBoost</th>\n",
              "      <th>LightGBM</th>\n",
              "      <th>Random Forest</th>\n",
              "      <th>Linear Regression</th>\n",
              "      <th>Support Vector Regression</th>\n",
              "      <th>LSTM</th>\n",
              "      <th>Ensemble</th>\n",
              "    </tr>\n",
              "  </thead>\n",
              "  <tbody>\n",
              "    <tr>\n",
              "      <th>2024-05-01</th>\n",
              "      <td>1532.0561</td>\n",
              "      <td>2134.7818</td>\n",
              "      <td>2023.8032</td>\n",
              "      <td>2100.3161</td>\n",
              "      <td>2032.4959</td>\n",
              "      <td>3209.9079</td>\n",
              "      <td>2532.6957</td>\n",
              "      <td>2539.0874</td>\n",
              "      <td>2222.7174</td>\n",
              "    </tr>\n",
              "    <tr>\n",
              "      <th>2024-06-01</th>\n",
              "      <td>1206.6883</td>\n",
              "      <td>2231.5677</td>\n",
              "      <td>2023.8032</td>\n",
              "      <td>2100.3161</td>\n",
              "      <td>2032.4959</td>\n",
              "      <td>3262.7027</td>\n",
              "      <td>2627.0019</td>\n",
              "      <td>2858.5977</td>\n",
              "      <td>2219.3915</td>\n",
              "    </tr>\n",
              "    <tr>\n",
              "      <th>2024-07-01</th>\n",
              "      <td>1091.9975</td>\n",
              "      <td>2332.7417</td>\n",
              "      <td>2023.8032</td>\n",
              "      <td>2100.3161</td>\n",
              "      <td>2032.4959</td>\n",
              "      <td>3316.3657</td>\n",
              "      <td>2631.8137</td>\n",
              "      <td>3045.6191</td>\n",
              "      <td>2227.2883</td>\n",
              "    </tr>\n",
              "    <tr>\n",
              "      <th>2024-08-01</th>\n",
              "      <td>1008.9024</td>\n",
              "      <td>2438.5026</td>\n",
              "      <td>2023.8032</td>\n",
              "      <td>2100.3161</td>\n",
              "      <td>2032.4959</td>\n",
              "      <td>3370.9114</td>\n",
              "      <td>2631.8462</td>\n",
              "      <td>3150.8650</td>\n",
              "      <td>2231.4811</td>\n",
              "    </tr>\n",
              "    <tr>\n",
              "      <th>2024-09-01</th>\n",
              "      <td>947.5667</td>\n",
              "      <td>2549.0585</td>\n",
              "      <td>2023.8032</td>\n",
              "      <td>2100.3161</td>\n",
              "      <td>2032.4959</td>\n",
              "      <td>3426.3542</td>\n",
              "      <td>2631.8462</td>\n",
              "      <td>3208.8550</td>\n",
              "      <td>2235.6810</td>\n",
              "    </tr>\n",
              "    <tr>\n",
              "      <th>2024-10-01</th>\n",
              "      <td>901.6193</td>\n",
              "      <td>2664.6267</td>\n",
              "      <td>2023.8032</td>\n",
              "      <td>2100.3161</td>\n",
              "      <td>2032.4959</td>\n",
              "      <td>3482.7089</td>\n",
              "      <td>2631.8462</td>\n",
              "      <td>3240.4500</td>\n",
              "      <td>2241.1895</td>\n",
              "    </tr>\n",
              "  </tbody>\n",
              "</table>\n",
              "</div>\n",
              "    <div class=\"colab-df-buttons\">\n",
              "\n",
              "  <div class=\"colab-df-container\">\n",
              "    <button class=\"colab-df-convert\" onclick=\"convertToInteractive('df-c4c20f0f-09f0-41a9-96f5-e50cbb25b375')\"\n",
              "            title=\"Convert this dataframe to an interactive table.\"\n",
              "            style=\"display:none;\">\n",
              "\n",
              "  <svg xmlns=\"http://www.w3.org/2000/svg\" height=\"24px\" viewBox=\"0 -960 960 960\">\n",
              "    <path d=\"M120-120v-720h720v720H120Zm60-500h600v-160H180v160Zm220 220h160v-160H400v160Zm0 220h160v-160H400v160ZM180-400h160v-160H180v160Zm440 0h160v-160H620v160ZM180-180h160v-160H180v160Zm440 0h160v-160H620v160Z\"/>\n",
              "  </svg>\n",
              "    </button>\n",
              "\n",
              "  <style>\n",
              "    .colab-df-container {\n",
              "      display:flex;\n",
              "      gap: 12px;\n",
              "    }\n",
              "\n",
              "    .colab-df-convert {\n",
              "      background-color: #E8F0FE;\n",
              "      border: none;\n",
              "      border-radius: 50%;\n",
              "      cursor: pointer;\n",
              "      display: none;\n",
              "      fill: #1967D2;\n",
              "      height: 32px;\n",
              "      padding: 0 0 0 0;\n",
              "      width: 32px;\n",
              "    }\n",
              "\n",
              "    .colab-df-convert:hover {\n",
              "      background-color: #E2EBFA;\n",
              "      box-shadow: 0px 1px 2px rgba(60, 64, 67, 0.3), 0px 1px 3px 1px rgba(60, 64, 67, 0.15);\n",
              "      fill: #174EA6;\n",
              "    }\n",
              "\n",
              "    .colab-df-buttons div {\n",
              "      margin-bottom: 4px;\n",
              "    }\n",
              "\n",
              "    [theme=dark] .colab-df-convert {\n",
              "      background-color: #3B4455;\n",
              "      fill: #D2E3FC;\n",
              "    }\n",
              "\n",
              "    [theme=dark] .colab-df-convert:hover {\n",
              "      background-color: #434B5C;\n",
              "      box-shadow: 0px 1px 3px 1px rgba(0, 0, 0, 0.15);\n",
              "      filter: drop-shadow(0px 1px 2px rgba(0, 0, 0, 0.3));\n",
              "      fill: #FFFFFF;\n",
              "    }\n",
              "  </style>\n",
              "\n",
              "    <script>\n",
              "      const buttonEl =\n",
              "        document.querySelector('#df-c4c20f0f-09f0-41a9-96f5-e50cbb25b375 button.colab-df-convert');\n",
              "      buttonEl.style.display =\n",
              "        google.colab.kernel.accessAllowed ? 'block' : 'none';\n",
              "\n",
              "      async function convertToInteractive(key) {\n",
              "        const element = document.querySelector('#df-c4c20f0f-09f0-41a9-96f5-e50cbb25b375');\n",
              "        const dataTable =\n",
              "          await google.colab.kernel.invokeFunction('convertToInteractive',\n",
              "                                                    [key], {});\n",
              "        if (!dataTable) return;\n",
              "\n",
              "        const docLinkHtml = 'Like what you see? Visit the ' +\n",
              "          '<a target=\"_blank\" href=https://colab.research.google.com/notebooks/data_table.ipynb>data table notebook</a>'\n",
              "          + ' to learn more about interactive tables.';\n",
              "        element.innerHTML = '';\n",
              "        dataTable['output_type'] = 'display_data';\n",
              "        await google.colab.output.renderOutput(dataTable, element);\n",
              "        const docLink = document.createElement('div');\n",
              "        docLink.innerHTML = docLinkHtml;\n",
              "        element.appendChild(docLink);\n",
              "      }\n",
              "    </script>\n",
              "  </div>\n",
              "\n",
              "\n",
              "<div id=\"df-61738f0a-807d-48d2-8469-4f6f450b9676\">\n",
              "  <button class=\"colab-df-quickchart\" onclick=\"quickchart('df-61738f0a-807d-48d2-8469-4f6f450b9676')\"\n",
              "            title=\"Suggest charts\"\n",
              "            style=\"display:none;\">\n",
              "\n",
              "<svg xmlns=\"http://www.w3.org/2000/svg\" height=\"24px\"viewBox=\"0 0 24 24\"\n",
              "     width=\"24px\">\n",
              "    <g>\n",
              "        <path d=\"M19 3H5c-1.1 0-2 .9-2 2v14c0 1.1.9 2 2 2h14c1.1 0 2-.9 2-2V5c0-1.1-.9-2-2-2zM9 17H7v-7h2v7zm4 0h-2V7h2v10zm4 0h-2v-4h2v4z\"/>\n",
              "    </g>\n",
              "</svg>\n",
              "  </button>\n",
              "\n",
              "<style>\n",
              "  .colab-df-quickchart {\n",
              "      --bg-color: #E8F0FE;\n",
              "      --fill-color: #1967D2;\n",
              "      --hover-bg-color: #E2EBFA;\n",
              "      --hover-fill-color: #174EA6;\n",
              "      --disabled-fill-color: #AAA;\n",
              "      --disabled-bg-color: #DDD;\n",
              "  }\n",
              "\n",
              "  [theme=dark] .colab-df-quickchart {\n",
              "      --bg-color: #3B4455;\n",
              "      --fill-color: #D2E3FC;\n",
              "      --hover-bg-color: #434B5C;\n",
              "      --hover-fill-color: #FFFFFF;\n",
              "      --disabled-bg-color: #3B4455;\n",
              "      --disabled-fill-color: #666;\n",
              "  }\n",
              "\n",
              "  .colab-df-quickchart {\n",
              "    background-color: var(--bg-color);\n",
              "    border: none;\n",
              "    border-radius: 50%;\n",
              "    cursor: pointer;\n",
              "    display: none;\n",
              "    fill: var(--fill-color);\n",
              "    height: 32px;\n",
              "    padding: 0;\n",
              "    width: 32px;\n",
              "  }\n",
              "\n",
              "  .colab-df-quickchart:hover {\n",
              "    background-color: var(--hover-bg-color);\n",
              "    box-shadow: 0 1px 2px rgba(60, 64, 67, 0.3), 0 1px 3px 1px rgba(60, 64, 67, 0.15);\n",
              "    fill: var(--button-hover-fill-color);\n",
              "  }\n",
              "\n",
              "  .colab-df-quickchart-complete:disabled,\n",
              "  .colab-df-quickchart-complete:disabled:hover {\n",
              "    background-color: var(--disabled-bg-color);\n",
              "    fill: var(--disabled-fill-color);\n",
              "    box-shadow: none;\n",
              "  }\n",
              "\n",
              "  .colab-df-spinner {\n",
              "    border: 2px solid var(--fill-color);\n",
              "    border-color: transparent;\n",
              "    border-bottom-color: var(--fill-color);\n",
              "    animation:\n",
              "      spin 1s steps(1) infinite;\n",
              "  }\n",
              "\n",
              "  @keyframes spin {\n",
              "    0% {\n",
              "      border-color: transparent;\n",
              "      border-bottom-color: var(--fill-color);\n",
              "      border-left-color: var(--fill-color);\n",
              "    }\n",
              "    20% {\n",
              "      border-color: transparent;\n",
              "      border-left-color: var(--fill-color);\n",
              "      border-top-color: var(--fill-color);\n",
              "    }\n",
              "    30% {\n",
              "      border-color: transparent;\n",
              "      border-left-color: var(--fill-color);\n",
              "      border-top-color: var(--fill-color);\n",
              "      border-right-color: var(--fill-color);\n",
              "    }\n",
              "    40% {\n",
              "      border-color: transparent;\n",
              "      border-right-color: var(--fill-color);\n",
              "      border-top-color: var(--fill-color);\n",
              "    }\n",
              "    60% {\n",
              "      border-color: transparent;\n",
              "      border-right-color: var(--fill-color);\n",
              "    }\n",
              "    80% {\n",
              "      border-color: transparent;\n",
              "      border-right-color: var(--fill-color);\n",
              "      border-bottom-color: var(--fill-color);\n",
              "    }\n",
              "    90% {\n",
              "      border-color: transparent;\n",
              "      border-bottom-color: var(--fill-color);\n",
              "    }\n",
              "  }\n",
              "</style>\n",
              "\n",
              "  <script>\n",
              "    async function quickchart(key) {\n",
              "      const quickchartButtonEl =\n",
              "        document.querySelector('#' + key + ' button');\n",
              "      quickchartButtonEl.disabled = true;  // To prevent multiple clicks.\n",
              "      quickchartButtonEl.classList.add('colab-df-spinner');\n",
              "      try {\n",
              "        const charts = await google.colab.kernel.invokeFunction(\n",
              "            'suggestCharts', [key], {});\n",
              "      } catch (error) {\n",
              "        console.error('Error during call to suggestCharts:', error);\n",
              "      }\n",
              "      quickchartButtonEl.classList.remove('colab-df-spinner');\n",
              "      quickchartButtonEl.classList.add('colab-df-quickchart-complete');\n",
              "    }\n",
              "    (() => {\n",
              "      let quickchartButtonEl =\n",
              "        document.querySelector('#df-61738f0a-807d-48d2-8469-4f6f450b9676 button');\n",
              "      quickchartButtonEl.style.display =\n",
              "        google.colab.kernel.accessAllowed ? 'block' : 'none';\n",
              "    })();\n",
              "  </script>\n",
              "</div>\n",
              "\n",
              "  <div id=\"id_89ca3019-6a3c-44ab-bc52-5ad70f1ddc32\">\n",
              "    <style>\n",
              "      .colab-df-generate {\n",
              "        background-color: #E8F0FE;\n",
              "        border: none;\n",
              "        border-radius: 50%;\n",
              "        cursor: pointer;\n",
              "        display: none;\n",
              "        fill: #1967D2;\n",
              "        height: 32px;\n",
              "        padding: 0 0 0 0;\n",
              "        width: 32px;\n",
              "      }\n",
              "\n",
              "      .colab-df-generate:hover {\n",
              "        background-color: #E2EBFA;\n",
              "        box-shadow: 0px 1px 2px rgba(60, 64, 67, 0.3), 0px 1px 3px 1px rgba(60, 64, 67, 0.15);\n",
              "        fill: #174EA6;\n",
              "      }\n",
              "\n",
              "      [theme=dark] .colab-df-generate {\n",
              "        background-color: #3B4455;\n",
              "        fill: #D2E3FC;\n",
              "      }\n",
              "\n",
              "      [theme=dark] .colab-df-generate:hover {\n",
              "        background-color: #434B5C;\n",
              "        box-shadow: 0px 1px 3px 1px rgba(0, 0, 0, 0.15);\n",
              "        filter: drop-shadow(0px 1px 2px rgba(0, 0, 0, 0.3));\n",
              "        fill: #FFFFFF;\n",
              "      }\n",
              "    </style>\n",
              "    <button class=\"colab-df-generate\" onclick=\"generateWithVariable('forecasts')\"\n",
              "            title=\"Generate code using this dataframe.\"\n",
              "            style=\"display:none;\">\n",
              "\n",
              "  <svg xmlns=\"http://www.w3.org/2000/svg\" height=\"24px\"viewBox=\"0 0 24 24\"\n",
              "       width=\"24px\">\n",
              "    <path d=\"M7,19H8.4L18.45,9,17,7.55,7,17.6ZM5,21V16.75L18.45,3.32a2,2,0,0,1,2.83,0l1.4,1.43a1.91,1.91,0,0,1,.58,1.4,1.91,1.91,0,0,1-.58,1.4L9.25,21ZM18.45,9,17,7.55Zm-12,3A5.31,5.31,0,0,0,4.9,8.1,5.31,5.31,0,0,0,1,6.5,5.31,5.31,0,0,0,4.9,4.9,5.31,5.31,0,0,0,6.5,1,5.31,5.31,0,0,0,8.1,4.9,5.31,5.31,0,0,0,12,6.5,5.46,5.46,0,0,0,6.5,12Z\"/>\n",
              "  </svg>\n",
              "    </button>\n",
              "    <script>\n",
              "      (() => {\n",
              "      const buttonEl =\n",
              "        document.querySelector('#id_89ca3019-6a3c-44ab-bc52-5ad70f1ddc32 button.colab-df-generate');\n",
              "      buttonEl.style.display =\n",
              "        google.colab.kernel.accessAllowed ? 'block' : 'none';\n",
              "\n",
              "      buttonEl.onclick = () => {\n",
              "        google.colab.notebook.generateWithVariable('forecasts');\n",
              "      }\n",
              "      })();\n",
              "    </script>\n",
              "  </div>\n",
              "\n",
              "    </div>\n",
              "  </div>\n"
            ],
            "application/vnd.google.colaboratory.intrinsic+json": {
              "type": "dataframe",
              "variable_name": "forecasts",
              "summary": "{\n  \"name\": \"forecasts\",\n  \"rows\": 6,\n  \"fields\": [\n    {\n      \"column\": \"ARIMA\",\n      \"properties\": {\n        \"dtype\": \"number\",\n        \"std\": 231.38425021695127,\n        \"min\": 901.619296073178,\n        \"max\": 1532.0560946236578,\n        \"num_unique_values\": 6,\n        \"samples\": [\n          1532.0560946236578,\n          1206.688274169954,\n          901.619296073178\n        ],\n        \"semantic_type\": \"\",\n        \"description\": \"\"\n      }\n    },\n    {\n      \"column\": \"Exponential Smoothing\",\n      \"properties\": {\n        \"dtype\": \"number\",\n        \"std\": 198.27572686690564,\n        \"min\": 2134.781837319918,\n        \"max\": 2664.626681149729,\n        \"num_unique_values\": 6,\n        \"samples\": [\n          2134.781837319918,\n          2231.5677361516173,\n          2664.626681149729\n        ],\n        \"semantic_type\": \"\",\n        \"description\": \"\"\n      }\n    },\n    {\n      \"column\": \"XGBoost\",\n      \"properties\": {\n        \"dtype\": \"float32\",\n        \"num_unique_values\": 1,\n        \"samples\": [\n          2023.80322265625\n        ],\n        \"semantic_type\": \"\",\n        \"description\": \"\"\n      }\n    },\n    {\n      \"column\": \"LightGBM\",\n      \"properties\": {\n        \"dtype\": \"number\",\n        \"std\": 4.981507640924666e-13,\n        \"min\": 2100.3160749000954,\n        \"max\": 2100.3160749000954,\n        \"num_unique_values\": 1,\n        \"samples\": [\n          2100.3160749000954\n        ],\n        \"semantic_type\": \"\",\n        \"description\": \"\"\n      }\n    },\n    {\n      \"column\": \"Random Forest\",\n      \"properties\": {\n        \"dtype\": \"number\",\n        \"std\": 0.0,\n        \"min\": 2032.495868556911,\n        \"max\": 2032.495868556911,\n        \"num_unique_values\": 1,\n        \"samples\": [\n          2032.495868556911\n        ],\n        \"semantic_type\": \"\",\n        \"description\": \"\"\n      }\n    },\n    {\n      \"column\": \"Linear Regression\",\n      \"properties\": {\n        \"dtype\": \"number\",\n        \"std\": 102.07458832072695,\n        \"min\": 3209.907941706035,\n        \"max\": 3482.708915142499,\n        \"num_unique_values\": 6,\n        \"samples\": [\n          3209.907941706035\n        ],\n        \"semantic_type\": \"\",\n        \"description\": \"\"\n      }\n    },\n    {\n      \"column\": \"Support Vector Regression\",\n      \"properties\": {\n        \"dtype\": \"number\",\n        \"std\": 40.126486111125466,\n        \"min\": 2532.695740601921,\n        \"max\": 2631.8462417667915,\n        \"num_unique_values\": 6,\n        \"samples\": [\n          2532.695740601921\n        ],\n        \"semantic_type\": \"\",\n        \"description\": \"\"\n      }\n    },\n    {\n      \"column\": \"LSTM\",\n      \"properties\": {\n        \"dtype\": \"float32\",\n        \"num_unique_values\": 6,\n        \"samples\": [\n          2539.08740234375\n        ],\n        \"semantic_type\": \"\",\n        \"description\": \"\"\n      }\n    },\n    {\n      \"column\": \"Ensemble\",\n      \"properties\": {\n        \"dtype\": \"number\",\n        \"std\": 8.145626865198171,\n        \"min\": 2219.391527697824,\n        \"max\": 2241.189492314817,\n        \"num_unique_values\": 6,\n        \"samples\": [\n          2222.717420623857\n        ],\n        \"semantic_type\": \"\",\n        \"description\": \"\"\n      }\n    }\n  ]\n}"
            }
          },
          "metadata": {},
          "execution_count": 97
        }
      ]
    },
    {
      "cell_type": "markdown",
      "source": [
        "Demonstração dos valores previstos pelos distintos modelos utilizados."
      ],
      "metadata": {
        "id": "5L3Cmaqrxbwy"
      }
    },
    {
      "cell_type": "code",
      "source": [
        "plt.figure(figsize=(10,6))\n",
        "\n",
        "for coluna in forecasts.columns:\n",
        "    plt.plot(forecasts.index, forecasts[coluna], label=coluna)\n",
        "\n",
        "\n",
        "plt.title('Previsões ao Longo do Tempo')\n",
        "plt.xlabel('Data')\n",
        "plt.ylabel('Valores')\n",
        "plt.legend(loc='upper left', bbox_to_anchor=(1, 1))\n",
        "\n",
        "plt.grid(True)\n",
        "plt.show()"
      ],
      "metadata": {
        "id": "sXVIpI7sbk5B",
        "colab": {
          "base_uri": "https://localhost:8080/",
          "height": 564
        },
        "outputId": "c4ec078b-4cac-4f9d-f48c-e66f134af759"
      },
      "execution_count": 98,
      "outputs": [
        {
          "output_type": "display_data",
          "data": {
            "text/plain": [
              "<Figure size 1000x600 with 1 Axes>"
            ],
            "image/png": "[encoded data removed]"
          },
          "metadata": {}
        }
      ]
    },
    {
      "cell_type": "markdown",
      "source": [
        "Com base nos resultados apresentados pelos melhores modelos (Ensemble à Suavização Exponencial), é possível perceber uma tendência relativamente estável da quantidade de requerimentos, o que de fato ocorreu conforme base de teste utilizada como comparativo. Tal resultado também está em linha com que é esperado pelo Programa de Transferência de Renda, visto não haver mais o prognóstico de inclusão de novos municípios como passíveis de receber o benefício, fator responsável pelas elevadas alterações nas quantidades mensais de requerimentos ocorridas no passado. A eficácia dos modelos ora apresentados levanta expectativas relacionadas a projeção de meses futuros, cujos resultados poderão ser utilizados como embasamento às decisões tomadas pela gerência do Programa."
      ],
      "metadata": {
        "id": "rCja51pi142F"
      }
    }
  ]
}